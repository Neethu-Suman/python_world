{
  "nbformat": 4,
  "nbformat_minor": 0,
  "metadata": {
    "colab": {
      "provenance": [],
      "authorship_tag": "ABX9TyO8tsjzLnElpybI3EyaaTQ5",
      "include_colab_link": true
    },
    "kernelspec": {
      "name": "python3",
      "display_name": "Python 3"
    },
    "language_info": {
      "name": "python"
    }
  },
  "cells": [
    {
      "cell_type": "markdown",
      "metadata": {
        "id": "view-in-github",
        "colab_type": "text"
      },
      "source": [
        "<a href=\"https://colab.research.google.com/github/Neethu-Suman/python_world/blob/main/Yulu.ipynb\" target=\"_parent\"><img src=\"https://colab.research.google.com/assets/colab-badge.svg\" alt=\"Open In Colab\"/></a>"
      ]
    },
    {
      "cell_type": "markdown",
      "source": [
        "#Definition of the problem\n",
        "Yulu is India’s leading micro-mobility service provider, which offers unique vehicles for the daily commute. Starting off as a mission to eliminate traffic congestion in India, Yulu provides the safest commute solution through a user-friendly mobile app to enable shared, solo and sustainable commuting.\n",
        "\n",
        "Yulu zones are located at all the appropriate locations (including metro stations, bus stands, office spaces, residential areas, corporate offices, etc) to make those first and last miles smooth, affordable, and convenient!\n",
        "\n",
        "Yulu has recently suffered considerable dips in its revenues. They have contracted a consulting company to understand the factors on which the demand for these shared electric cycles depends. Specifically, they want to understand the factors affecting the demand for these shared electric cycles in the Indian market.\n",
        "\n",
        "##Summary for problem definition:\n",
        "To study the cause for the dip the revenues and identify the factors affecting the demand for Yulu shared electric cycles in the Indian market"
      ],
      "metadata": {
        "id": "L2JoAN4XQy5N"
      }
    },
    {
      "cell_type": "code",
      "execution_count": null,
      "metadata": {
        "colab": {
          "base_uri": "https://localhost:8080/"
        },
        "id": "6Idwd_ecjXVy",
        "outputId": "0b3911c8-51c7-4326-bd29-57a6544efd10"
      },
      "outputs": [
        {
          "output_type": "stream",
          "name": "stdout",
          "text": [
            "--2023-03-29 18:21:21--  https://d2beiqkhq929f0.cloudfront.net/public_assets/assets/000/001/428/original/bike_sharing.csv?1642089089\n",
            "Resolving d2beiqkhq929f0.cloudfront.net (d2beiqkhq929f0.cloudfront.net)... 18.67.66.49, 18.67.66.76, 18.67.66.31, ...\n",
            "Connecting to d2beiqkhq929f0.cloudfront.net (d2beiqkhq929f0.cloudfront.net)|18.67.66.49|:443... connected.\n",
            "HTTP request sent, awaiting response... 200 OK\n",
            "Length: 648353 (633K) [text/plain]\n",
            "Saving to: ‘yulu.csv’\n",
            "\n",
            "\ryulu.csv              0%[                    ]       0  --.-KB/s               \ryulu.csv            100%[===================>] 633.16K  --.-KB/s    in 0.02s   \n",
            "\n",
            "2023-03-29 18:21:21 (36.7 MB/s) - ‘yulu.csv’ saved [648353/648353]\n",
            "\n"
          ]
        }
      ],
      "source": [
        "!wget https://d2beiqkhq929f0.cloudfront.net/public_assets/assets/000/001/428/original/bike_sharing.csv?1642089089 -O yulu.csv"
      ]
    },
    {
      "cell_type": "code",
      "source": [
        "import pandas as pd\n",
        "import numpy as np\n",
        "import matplotlib.pyplot as plt\n",
        "import seaborn as sns"
      ],
      "metadata": {
        "id": "iHxvWEnCjr9q"
      },
      "execution_count": null,
      "outputs": []
    },
    {
      "cell_type": "code",
      "source": [
        "data=pd.read_csv('yulu.csv')\n",
        "data"
      ],
      "metadata": {
        "colab": {
          "base_uri": "https://localhost:8080/",
          "height": 423
        },
        "id": "eorjwnWKjvHx",
        "outputId": "3724e1e6-7ac4-49a4-c648-eaed730c1005"
      },
      "execution_count": null,
      "outputs": [
        {
          "output_type": "execute_result",
          "data": {
            "text/plain": [
              "                  datetime  season  holiday  workingday  weather   temp  \\\n",
              "0      2011-01-01 00:00:00       1        0           0        1   9.84   \n",
              "1      2011-01-01 01:00:00       1        0           0        1   9.02   \n",
              "2      2011-01-01 02:00:00       1        0           0        1   9.02   \n",
              "3      2011-01-01 03:00:00       1        0           0        1   9.84   \n",
              "4      2011-01-01 04:00:00       1        0           0        1   9.84   \n",
              "...                    ...     ...      ...         ...      ...    ...   \n",
              "10881  2012-12-19 19:00:00       4        0           1        1  15.58   \n",
              "10882  2012-12-19 20:00:00       4        0           1        1  14.76   \n",
              "10883  2012-12-19 21:00:00       4        0           1        1  13.94   \n",
              "10884  2012-12-19 22:00:00       4        0           1        1  13.94   \n",
              "10885  2012-12-19 23:00:00       4        0           1        1  13.12   \n",
              "\n",
              "        atemp  humidity  windspeed  casual  registered  count  \n",
              "0      14.395        81     0.0000       3          13     16  \n",
              "1      13.635        80     0.0000       8          32     40  \n",
              "2      13.635        80     0.0000       5          27     32  \n",
              "3      14.395        75     0.0000       3          10     13  \n",
              "4      14.395        75     0.0000       0           1      1  \n",
              "...       ...       ...        ...     ...         ...    ...  \n",
              "10881  19.695        50    26.0027       7         329    336  \n",
              "10882  17.425        57    15.0013      10         231    241  \n",
              "10883  15.910        61    15.0013       4         164    168  \n",
              "10884  17.425        61     6.0032      12         117    129  \n",
              "10885  16.665        66     8.9981       4          84     88  \n",
              "\n",
              "[10886 rows x 12 columns]"
            ],
            "text/html": [
              "\n",
              "  <div id=\"df-f71c7fbd-4a66-4e8c-8942-4e4d40543505\">\n",
              "    <div class=\"colab-df-container\">\n",
              "      <div>\n",
              "<style scoped>\n",
              "    .dataframe tbody tr th:only-of-type {\n",
              "        vertical-align: middle;\n",
              "    }\n",
              "\n",
              "    .dataframe tbody tr th {\n",
              "        vertical-align: top;\n",
              "    }\n",
              "\n",
              "    .dataframe thead th {\n",
              "        text-align: right;\n",
              "    }\n",
              "</style>\n",
              "<table border=\"1\" class=\"dataframe\">\n",
              "  <thead>\n",
              "    <tr style=\"text-align: right;\">\n",
              "      <th></th>\n",
              "      <th>datetime</th>\n",
              "      <th>season</th>\n",
              "      <th>holiday</th>\n",
              "      <th>workingday</th>\n",
              "      <th>weather</th>\n",
              "      <th>temp</th>\n",
              "      <th>atemp</th>\n",
              "      <th>humidity</th>\n",
              "      <th>windspeed</th>\n",
              "      <th>casual</th>\n",
              "      <th>registered</th>\n",
              "      <th>count</th>\n",
              "    </tr>\n",
              "  </thead>\n",
              "  <tbody>\n",
              "    <tr>\n",
              "      <th>0</th>\n",
              "      <td>2011-01-01 00:00:00</td>\n",
              "      <td>1</td>\n",
              "      <td>0</td>\n",
              "      <td>0</td>\n",
              "      <td>1</td>\n",
              "      <td>9.84</td>\n",
              "      <td>14.395</td>\n",
              "      <td>81</td>\n",
              "      <td>0.0000</td>\n",
              "      <td>3</td>\n",
              "      <td>13</td>\n",
              "      <td>16</td>\n",
              "    </tr>\n",
              "    <tr>\n",
              "      <th>1</th>\n",
              "      <td>2011-01-01 01:00:00</td>\n",
              "      <td>1</td>\n",
              "      <td>0</td>\n",
              "      <td>0</td>\n",
              "      <td>1</td>\n",
              "      <td>9.02</td>\n",
              "      <td>13.635</td>\n",
              "      <td>80</td>\n",
              "      <td>0.0000</td>\n",
              "      <td>8</td>\n",
              "      <td>32</td>\n",
              "      <td>40</td>\n",
              "    </tr>\n",
              "    <tr>\n",
              "      <th>2</th>\n",
              "      <td>2011-01-01 02:00:00</td>\n",
              "      <td>1</td>\n",
              "      <td>0</td>\n",
              "      <td>0</td>\n",
              "      <td>1</td>\n",
              "      <td>9.02</td>\n",
              "      <td>13.635</td>\n",
              "      <td>80</td>\n",
              "      <td>0.0000</td>\n",
              "      <td>5</td>\n",
              "      <td>27</td>\n",
              "      <td>32</td>\n",
              "    </tr>\n",
              "    <tr>\n",
              "      <th>3</th>\n",
              "      <td>2011-01-01 03:00:00</td>\n",
              "      <td>1</td>\n",
              "      <td>0</td>\n",
              "      <td>0</td>\n",
              "      <td>1</td>\n",
              "      <td>9.84</td>\n",
              "      <td>14.395</td>\n",
              "      <td>75</td>\n",
              "      <td>0.0000</td>\n",
              "      <td>3</td>\n",
              "      <td>10</td>\n",
              "      <td>13</td>\n",
              "    </tr>\n",
              "    <tr>\n",
              "      <th>4</th>\n",
              "      <td>2011-01-01 04:00:00</td>\n",
              "      <td>1</td>\n",
              "      <td>0</td>\n",
              "      <td>0</td>\n",
              "      <td>1</td>\n",
              "      <td>9.84</td>\n",
              "      <td>14.395</td>\n",
              "      <td>75</td>\n",
              "      <td>0.0000</td>\n",
              "      <td>0</td>\n",
              "      <td>1</td>\n",
              "      <td>1</td>\n",
              "    </tr>\n",
              "    <tr>\n",
              "      <th>...</th>\n",
              "      <td>...</td>\n",
              "      <td>...</td>\n",
              "      <td>...</td>\n",
              "      <td>...</td>\n",
              "      <td>...</td>\n",
              "      <td>...</td>\n",
              "      <td>...</td>\n",
              "      <td>...</td>\n",
              "      <td>...</td>\n",
              "      <td>...</td>\n",
              "      <td>...</td>\n",
              "      <td>...</td>\n",
              "    </tr>\n",
              "    <tr>\n",
              "      <th>10881</th>\n",
              "      <td>2012-12-19 19:00:00</td>\n",
              "      <td>4</td>\n",
              "      <td>0</td>\n",
              "      <td>1</td>\n",
              "      <td>1</td>\n",
              "      <td>15.58</td>\n",
              "      <td>19.695</td>\n",
              "      <td>50</td>\n",
              "      <td>26.0027</td>\n",
              "      <td>7</td>\n",
              "      <td>329</td>\n",
              "      <td>336</td>\n",
              "    </tr>\n",
              "    <tr>\n",
              "      <th>10882</th>\n",
              "      <td>2012-12-19 20:00:00</td>\n",
              "      <td>4</td>\n",
              "      <td>0</td>\n",
              "      <td>1</td>\n",
              "      <td>1</td>\n",
              "      <td>14.76</td>\n",
              "      <td>17.425</td>\n",
              "      <td>57</td>\n",
              "      <td>15.0013</td>\n",
              "      <td>10</td>\n",
              "      <td>231</td>\n",
              "      <td>241</td>\n",
              "    </tr>\n",
              "    <tr>\n",
              "      <th>10883</th>\n",
              "      <td>2012-12-19 21:00:00</td>\n",
              "      <td>4</td>\n",
              "      <td>0</td>\n",
              "      <td>1</td>\n",
              "      <td>1</td>\n",
              "      <td>13.94</td>\n",
              "      <td>15.910</td>\n",
              "      <td>61</td>\n",
              "      <td>15.0013</td>\n",
              "      <td>4</td>\n",
              "      <td>164</td>\n",
              "      <td>168</td>\n",
              "    </tr>\n",
              "    <tr>\n",
              "      <th>10884</th>\n",
              "      <td>2012-12-19 22:00:00</td>\n",
              "      <td>4</td>\n",
              "      <td>0</td>\n",
              "      <td>1</td>\n",
              "      <td>1</td>\n",
              "      <td>13.94</td>\n",
              "      <td>17.425</td>\n",
              "      <td>61</td>\n",
              "      <td>6.0032</td>\n",
              "      <td>12</td>\n",
              "      <td>117</td>\n",
              "      <td>129</td>\n",
              "    </tr>\n",
              "    <tr>\n",
              "      <th>10885</th>\n",
              "      <td>2012-12-19 23:00:00</td>\n",
              "      <td>4</td>\n",
              "      <td>0</td>\n",
              "      <td>1</td>\n",
              "      <td>1</td>\n",
              "      <td>13.12</td>\n",
              "      <td>16.665</td>\n",
              "      <td>66</td>\n",
              "      <td>8.9981</td>\n",
              "      <td>4</td>\n",
              "      <td>84</td>\n",
              "      <td>88</td>\n",
              "    </tr>\n",
              "  </tbody>\n",
              "</table>\n",
              "<p>10886 rows × 12 columns</p>\n",
              "</div>\n",
              "      <button class=\"colab-df-convert\" onclick=\"convertToInteractive('df-f71c7fbd-4a66-4e8c-8942-4e4d40543505')\"\n",
              "              title=\"Convert this dataframe to an interactive table.\"\n",
              "              style=\"display:none;\">\n",
              "        \n",
              "  <svg xmlns=\"http://www.w3.org/2000/svg\" height=\"24px\"viewBox=\"0 0 24 24\"\n",
              "       width=\"24px\">\n",
              "    <path d=\"M0 0h24v24H0V0z\" fill=\"none\"/>\n",
              "    <path d=\"M18.56 5.44l.94 2.06.94-2.06 2.06-.94-2.06-.94-.94-2.06-.94 2.06-2.06.94zm-11 1L8.5 8.5l.94-2.06 2.06-.94-2.06-.94L8.5 2.5l-.94 2.06-2.06.94zm10 10l.94 2.06.94-2.06 2.06-.94-2.06-.94-.94-2.06-.94 2.06-2.06.94z\"/><path d=\"M17.41 7.96l-1.37-1.37c-.4-.4-.92-.59-1.43-.59-.52 0-1.04.2-1.43.59L10.3 9.45l-7.72 7.72c-.78.78-.78 2.05 0 2.83L4 21.41c.39.39.9.59 1.41.59.51 0 1.02-.2 1.41-.59l7.78-7.78 2.81-2.81c.8-.78.8-2.07 0-2.86zM5.41 20L4 18.59l7.72-7.72 1.47 1.35L5.41 20z\"/>\n",
              "  </svg>\n",
              "      </button>\n",
              "      \n",
              "  <style>\n",
              "    .colab-df-container {\n",
              "      display:flex;\n",
              "      flex-wrap:wrap;\n",
              "      gap: 12px;\n",
              "    }\n",
              "\n",
              "    .colab-df-convert {\n",
              "      background-color: #E8F0FE;\n",
              "      border: none;\n",
              "      border-radius: 50%;\n",
              "      cursor: pointer;\n",
              "      display: none;\n",
              "      fill: #1967D2;\n",
              "      height: 32px;\n",
              "      padding: 0 0 0 0;\n",
              "      width: 32px;\n",
              "    }\n",
              "\n",
              "    .colab-df-convert:hover {\n",
              "      background-color: #E2EBFA;\n",
              "      box-shadow: 0px 1px 2px rgba(60, 64, 67, 0.3), 0px 1px 3px 1px rgba(60, 64, 67, 0.15);\n",
              "      fill: #174EA6;\n",
              "    }\n",
              "\n",
              "    [theme=dark] .colab-df-convert {\n",
              "      background-color: #3B4455;\n",
              "      fill: #D2E3FC;\n",
              "    }\n",
              "\n",
              "    [theme=dark] .colab-df-convert:hover {\n",
              "      background-color: #434B5C;\n",
              "      box-shadow: 0px 1px 3px 1px rgba(0, 0, 0, 0.15);\n",
              "      filter: drop-shadow(0px 1px 2px rgba(0, 0, 0, 0.3));\n",
              "      fill: #FFFFFF;\n",
              "    }\n",
              "  </style>\n",
              "\n",
              "      <script>\n",
              "        const buttonEl =\n",
              "          document.querySelector('#df-f71c7fbd-4a66-4e8c-8942-4e4d40543505 button.colab-df-convert');\n",
              "        buttonEl.style.display =\n",
              "          google.colab.kernel.accessAllowed ? 'block' : 'none';\n",
              "\n",
              "        async function convertToInteractive(key) {\n",
              "          const element = document.querySelector('#df-f71c7fbd-4a66-4e8c-8942-4e4d40543505');\n",
              "          const dataTable =\n",
              "            await google.colab.kernel.invokeFunction('convertToInteractive',\n",
              "                                                     [key], {});\n",
              "          if (!dataTable) return;\n",
              "\n",
              "          const docLinkHtml = 'Like what you see? Visit the ' +\n",
              "            '<a target=\"_blank\" href=https://colab.research.google.com/notebooks/data_table.ipynb>data table notebook</a>'\n",
              "            + ' to learn more about interactive tables.';\n",
              "          element.innerHTML = '';\n",
              "          dataTable['output_type'] = 'display_data';\n",
              "          await google.colab.output.renderOutput(dataTable, element);\n",
              "          const docLink = document.createElement('div');\n",
              "          docLink.innerHTML = docLinkHtml;\n",
              "          element.appendChild(docLink);\n",
              "        }\n",
              "      </script>\n",
              "    </div>\n",
              "  </div>\n",
              "  "
            ]
          },
          "metadata": {},
          "execution_count": 105
        }
      ]
    },
    {
      "cell_type": "code",
      "source": [
        "data.isnull().sum()\n",
        "#no missing terms"
      ],
      "metadata": {
        "colab": {
          "base_uri": "https://localhost:8080/"
        },
        "id": "TIVs0h5TmDIt",
        "outputId": "f29622ef-123c-4632-d3d5-f2f4030d8222"
      },
      "execution_count": null,
      "outputs": [
        {
          "output_type": "execute_result",
          "data": {
            "text/plain": [
              "datetime      0\n",
              "season        0\n",
              "holiday       0\n",
              "workingday    0\n",
              "weather       0\n",
              "temp          0\n",
              "atemp         0\n",
              "humidity      0\n",
              "windspeed     0\n",
              "casual        0\n",
              "registered    0\n",
              "count         0\n",
              "dtype: int64"
            ]
          },
          "metadata": {},
          "execution_count": 6
        }
      ]
    },
    {
      "cell_type": "code",
      "source": [
        "data.dtypes"
      ],
      "metadata": {
        "colab": {
          "base_uri": "https://localhost:8080/"
        },
        "id": "0okIKSW8mSkr",
        "outputId": "ba410708-f444-44c4-f47a-8a648dccfcf9"
      },
      "execution_count": null,
      "outputs": [
        {
          "output_type": "execute_result",
          "data": {
            "text/plain": [
              "datetime       object\n",
              "season          int64\n",
              "holiday         int64\n",
              "workingday      int64\n",
              "weather         int64\n",
              "temp          float64\n",
              "atemp         float64\n",
              "humidity        int64\n",
              "windspeed     float64\n",
              "casual          int64\n",
              "registered      int64\n",
              "count           int64\n",
              "dtype: object"
            ]
          },
          "metadata": {},
          "execution_count": 7
        }
      ]
    },
    {
      "cell_type": "code",
      "source": [
        "data.info()"
      ],
      "metadata": {
        "colab": {
          "base_uri": "https://localhost:8080/"
        },
        "id": "PFS7huX4mWvR",
        "outputId": "395a9201-1097-41c0-fbc2-cf0340e1caaa"
      },
      "execution_count": null,
      "outputs": [
        {
          "output_type": "stream",
          "name": "stdout",
          "text": [
            "<class 'pandas.core.frame.DataFrame'>\n",
            "RangeIndex: 10886 entries, 0 to 10885\n",
            "Data columns (total 12 columns):\n",
            " #   Column      Non-Null Count  Dtype  \n",
            "---  ------      --------------  -----  \n",
            " 0   datetime    10886 non-null  object \n",
            " 1   season      10886 non-null  int64  \n",
            " 2   holiday     10886 non-null  int64  \n",
            " 3   workingday  10886 non-null  int64  \n",
            " 4   weather     10886 non-null  int64  \n",
            " 5   temp        10886 non-null  float64\n",
            " 6   atemp       10886 non-null  float64\n",
            " 7   humidity    10886 non-null  int64  \n",
            " 8   windspeed   10886 non-null  float64\n",
            " 9   casual      10886 non-null  int64  \n",
            " 10  registered  10886 non-null  int64  \n",
            " 11  count       10886 non-null  int64  \n",
            "dtypes: float64(3), int64(8), object(1)\n",
            "memory usage: 1020.7+ KB\n"
          ]
        }
      ]
    },
    {
      "cell_type": "code",
      "source": [
        "data.shape"
      ],
      "metadata": {
        "colab": {
          "base_uri": "https://localhost:8080/"
        },
        "id": "Ux_ZdnvvmtIF",
        "outputId": "850b7807-33f8-4f58-d89a-47e53bd8cf9e"
      },
      "execution_count": null,
      "outputs": [
        {
          "output_type": "execute_result",
          "data": {
            "text/plain": [
              "(10886, 12)"
            ]
          },
          "metadata": {},
          "execution_count": 9
        }
      ]
    },
    {
      "cell_type": "code",
      "source": [
        "data.describe(include=\"all\")"
      ],
      "metadata": {
        "colab": {
          "base_uri": "https://localhost:8080/",
          "height": 394
        },
        "id": "5yGJOK3ZnBFr",
        "outputId": "0e071227-a2ef-4ea2-9c77-6f48a13a4ba0"
      },
      "execution_count": null,
      "outputs": [
        {
          "output_type": "execute_result",
          "data": {
            "text/plain": [
              "                   datetime        season       holiday    workingday  \\\n",
              "count                 10886  10886.000000  10886.000000  10886.000000   \n",
              "unique                10886           NaN           NaN           NaN   \n",
              "top     2011-01-01 00:00:00           NaN           NaN           NaN   \n",
              "freq                      1           NaN           NaN           NaN   \n",
              "mean                    NaN      2.506614      0.028569      0.680875   \n",
              "std                     NaN      1.116174      0.166599      0.466159   \n",
              "min                     NaN      1.000000      0.000000      0.000000   \n",
              "25%                     NaN      2.000000      0.000000      0.000000   \n",
              "50%                     NaN      3.000000      0.000000      1.000000   \n",
              "75%                     NaN      4.000000      0.000000      1.000000   \n",
              "max                     NaN      4.000000      1.000000      1.000000   \n",
              "\n",
              "             weather         temp         atemp      humidity     windspeed  \\\n",
              "count   10886.000000  10886.00000  10886.000000  10886.000000  10886.000000   \n",
              "unique           NaN          NaN           NaN           NaN           NaN   \n",
              "top              NaN          NaN           NaN           NaN           NaN   \n",
              "freq             NaN          NaN           NaN           NaN           NaN   \n",
              "mean        1.418427     20.23086     23.655084     61.886460     12.799395   \n",
              "std         0.633839      7.79159      8.474601     19.245033      8.164537   \n",
              "min         1.000000      0.82000      0.760000      0.000000      0.000000   \n",
              "25%         1.000000     13.94000     16.665000     47.000000      7.001500   \n",
              "50%         1.000000     20.50000     24.240000     62.000000     12.998000   \n",
              "75%         2.000000     26.24000     31.060000     77.000000     16.997900   \n",
              "max         4.000000     41.00000     45.455000    100.000000     56.996900   \n",
              "\n",
              "              casual    registered         count  \n",
              "count   10886.000000  10886.000000  10886.000000  \n",
              "unique           NaN           NaN           NaN  \n",
              "top              NaN           NaN           NaN  \n",
              "freq             NaN           NaN           NaN  \n",
              "mean       36.021955    155.552177    191.574132  \n",
              "std        49.960477    151.039033    181.144454  \n",
              "min         0.000000      0.000000      1.000000  \n",
              "25%         4.000000     36.000000     42.000000  \n",
              "50%        17.000000    118.000000    145.000000  \n",
              "75%        49.000000    222.000000    284.000000  \n",
              "max       367.000000    886.000000    977.000000  "
            ],
            "text/html": [
              "\n",
              "  <div id=\"df-be20ea46-ea84-4c3e-b621-43bd56c4204b\">\n",
              "    <div class=\"colab-df-container\">\n",
              "      <div>\n",
              "<style scoped>\n",
              "    .dataframe tbody tr th:only-of-type {\n",
              "        vertical-align: middle;\n",
              "    }\n",
              "\n",
              "    .dataframe tbody tr th {\n",
              "        vertical-align: top;\n",
              "    }\n",
              "\n",
              "    .dataframe thead th {\n",
              "        text-align: right;\n",
              "    }\n",
              "</style>\n",
              "<table border=\"1\" class=\"dataframe\">\n",
              "  <thead>\n",
              "    <tr style=\"text-align: right;\">\n",
              "      <th></th>\n",
              "      <th>datetime</th>\n",
              "      <th>season</th>\n",
              "      <th>holiday</th>\n",
              "      <th>workingday</th>\n",
              "      <th>weather</th>\n",
              "      <th>temp</th>\n",
              "      <th>atemp</th>\n",
              "      <th>humidity</th>\n",
              "      <th>windspeed</th>\n",
              "      <th>casual</th>\n",
              "      <th>registered</th>\n",
              "      <th>count</th>\n",
              "    </tr>\n",
              "  </thead>\n",
              "  <tbody>\n",
              "    <tr>\n",
              "      <th>count</th>\n",
              "      <td>10886</td>\n",
              "      <td>10886.000000</td>\n",
              "      <td>10886.000000</td>\n",
              "      <td>10886.000000</td>\n",
              "      <td>10886.000000</td>\n",
              "      <td>10886.00000</td>\n",
              "      <td>10886.000000</td>\n",
              "      <td>10886.000000</td>\n",
              "      <td>10886.000000</td>\n",
              "      <td>10886.000000</td>\n",
              "      <td>10886.000000</td>\n",
              "      <td>10886.000000</td>\n",
              "    </tr>\n",
              "    <tr>\n",
              "      <th>unique</th>\n",
              "      <td>10886</td>\n",
              "      <td>NaN</td>\n",
              "      <td>NaN</td>\n",
              "      <td>NaN</td>\n",
              "      <td>NaN</td>\n",
              "      <td>NaN</td>\n",
              "      <td>NaN</td>\n",
              "      <td>NaN</td>\n",
              "      <td>NaN</td>\n",
              "      <td>NaN</td>\n",
              "      <td>NaN</td>\n",
              "      <td>NaN</td>\n",
              "    </tr>\n",
              "    <tr>\n",
              "      <th>top</th>\n",
              "      <td>2011-01-01 00:00:00</td>\n",
              "      <td>NaN</td>\n",
              "      <td>NaN</td>\n",
              "      <td>NaN</td>\n",
              "      <td>NaN</td>\n",
              "      <td>NaN</td>\n",
              "      <td>NaN</td>\n",
              "      <td>NaN</td>\n",
              "      <td>NaN</td>\n",
              "      <td>NaN</td>\n",
              "      <td>NaN</td>\n",
              "      <td>NaN</td>\n",
              "    </tr>\n",
              "    <tr>\n",
              "      <th>freq</th>\n",
              "      <td>1</td>\n",
              "      <td>NaN</td>\n",
              "      <td>NaN</td>\n",
              "      <td>NaN</td>\n",
              "      <td>NaN</td>\n",
              "      <td>NaN</td>\n",
              "      <td>NaN</td>\n",
              "      <td>NaN</td>\n",
              "      <td>NaN</td>\n",
              "      <td>NaN</td>\n",
              "      <td>NaN</td>\n",
              "      <td>NaN</td>\n",
              "    </tr>\n",
              "    <tr>\n",
              "      <th>mean</th>\n",
              "      <td>NaN</td>\n",
              "      <td>2.506614</td>\n",
              "      <td>0.028569</td>\n",
              "      <td>0.680875</td>\n",
              "      <td>1.418427</td>\n",
              "      <td>20.23086</td>\n",
              "      <td>23.655084</td>\n",
              "      <td>61.886460</td>\n",
              "      <td>12.799395</td>\n",
              "      <td>36.021955</td>\n",
              "      <td>155.552177</td>\n",
              "      <td>191.574132</td>\n",
              "    </tr>\n",
              "    <tr>\n",
              "      <th>std</th>\n",
              "      <td>NaN</td>\n",
              "      <td>1.116174</td>\n",
              "      <td>0.166599</td>\n",
              "      <td>0.466159</td>\n",
              "      <td>0.633839</td>\n",
              "      <td>7.79159</td>\n",
              "      <td>8.474601</td>\n",
              "      <td>19.245033</td>\n",
              "      <td>8.164537</td>\n",
              "      <td>49.960477</td>\n",
              "      <td>151.039033</td>\n",
              "      <td>181.144454</td>\n",
              "    </tr>\n",
              "    <tr>\n",
              "      <th>min</th>\n",
              "      <td>NaN</td>\n",
              "      <td>1.000000</td>\n",
              "      <td>0.000000</td>\n",
              "      <td>0.000000</td>\n",
              "      <td>1.000000</td>\n",
              "      <td>0.82000</td>\n",
              "      <td>0.760000</td>\n",
              "      <td>0.000000</td>\n",
              "      <td>0.000000</td>\n",
              "      <td>0.000000</td>\n",
              "      <td>0.000000</td>\n",
              "      <td>1.000000</td>\n",
              "    </tr>\n",
              "    <tr>\n",
              "      <th>25%</th>\n",
              "      <td>NaN</td>\n",
              "      <td>2.000000</td>\n",
              "      <td>0.000000</td>\n",
              "      <td>0.000000</td>\n",
              "      <td>1.000000</td>\n",
              "      <td>13.94000</td>\n",
              "      <td>16.665000</td>\n",
              "      <td>47.000000</td>\n",
              "      <td>7.001500</td>\n",
              "      <td>4.000000</td>\n",
              "      <td>36.000000</td>\n",
              "      <td>42.000000</td>\n",
              "    </tr>\n",
              "    <tr>\n",
              "      <th>50%</th>\n",
              "      <td>NaN</td>\n",
              "      <td>3.000000</td>\n",
              "      <td>0.000000</td>\n",
              "      <td>1.000000</td>\n",
              "      <td>1.000000</td>\n",
              "      <td>20.50000</td>\n",
              "      <td>24.240000</td>\n",
              "      <td>62.000000</td>\n",
              "      <td>12.998000</td>\n",
              "      <td>17.000000</td>\n",
              "      <td>118.000000</td>\n",
              "      <td>145.000000</td>\n",
              "    </tr>\n",
              "    <tr>\n",
              "      <th>75%</th>\n",
              "      <td>NaN</td>\n",
              "      <td>4.000000</td>\n",
              "      <td>0.000000</td>\n",
              "      <td>1.000000</td>\n",
              "      <td>2.000000</td>\n",
              "      <td>26.24000</td>\n",
              "      <td>31.060000</td>\n",
              "      <td>77.000000</td>\n",
              "      <td>16.997900</td>\n",
              "      <td>49.000000</td>\n",
              "      <td>222.000000</td>\n",
              "      <td>284.000000</td>\n",
              "    </tr>\n",
              "    <tr>\n",
              "      <th>max</th>\n",
              "      <td>NaN</td>\n",
              "      <td>4.000000</td>\n",
              "      <td>1.000000</td>\n",
              "      <td>1.000000</td>\n",
              "      <td>4.000000</td>\n",
              "      <td>41.00000</td>\n",
              "      <td>45.455000</td>\n",
              "      <td>100.000000</td>\n",
              "      <td>56.996900</td>\n",
              "      <td>367.000000</td>\n",
              "      <td>886.000000</td>\n",
              "      <td>977.000000</td>\n",
              "    </tr>\n",
              "  </tbody>\n",
              "</table>\n",
              "</div>\n",
              "      <button class=\"colab-df-convert\" onclick=\"convertToInteractive('df-be20ea46-ea84-4c3e-b621-43bd56c4204b')\"\n",
              "              title=\"Convert this dataframe to an interactive table.\"\n",
              "              style=\"display:none;\">\n",
              "        \n",
              "  <svg xmlns=\"http://www.w3.org/2000/svg\" height=\"24px\"viewBox=\"0 0 24 24\"\n",
              "       width=\"24px\">\n",
              "    <path d=\"M0 0h24v24H0V0z\" fill=\"none\"/>\n",
              "    <path d=\"M18.56 5.44l.94 2.06.94-2.06 2.06-.94-2.06-.94-.94-2.06-.94 2.06-2.06.94zm-11 1L8.5 8.5l.94-2.06 2.06-.94-2.06-.94L8.5 2.5l-.94 2.06-2.06.94zm10 10l.94 2.06.94-2.06 2.06-.94-2.06-.94-.94-2.06-.94 2.06-2.06.94z\"/><path d=\"M17.41 7.96l-1.37-1.37c-.4-.4-.92-.59-1.43-.59-.52 0-1.04.2-1.43.59L10.3 9.45l-7.72 7.72c-.78.78-.78 2.05 0 2.83L4 21.41c.39.39.9.59 1.41.59.51 0 1.02-.2 1.41-.59l7.78-7.78 2.81-2.81c.8-.78.8-2.07 0-2.86zM5.41 20L4 18.59l7.72-7.72 1.47 1.35L5.41 20z\"/>\n",
              "  </svg>\n",
              "      </button>\n",
              "      \n",
              "  <style>\n",
              "    .colab-df-container {\n",
              "      display:flex;\n",
              "      flex-wrap:wrap;\n",
              "      gap: 12px;\n",
              "    }\n",
              "\n",
              "    .colab-df-convert {\n",
              "      background-color: #E8F0FE;\n",
              "      border: none;\n",
              "      border-radius: 50%;\n",
              "      cursor: pointer;\n",
              "      display: none;\n",
              "      fill: #1967D2;\n",
              "      height: 32px;\n",
              "      padding: 0 0 0 0;\n",
              "      width: 32px;\n",
              "    }\n",
              "\n",
              "    .colab-df-convert:hover {\n",
              "      background-color: #E2EBFA;\n",
              "      box-shadow: 0px 1px 2px rgba(60, 64, 67, 0.3), 0px 1px 3px 1px rgba(60, 64, 67, 0.15);\n",
              "      fill: #174EA6;\n",
              "    }\n",
              "\n",
              "    [theme=dark] .colab-df-convert {\n",
              "      background-color: #3B4455;\n",
              "      fill: #D2E3FC;\n",
              "    }\n",
              "\n",
              "    [theme=dark] .colab-df-convert:hover {\n",
              "      background-color: #434B5C;\n",
              "      box-shadow: 0px 1px 3px 1px rgba(0, 0, 0, 0.15);\n",
              "      filter: drop-shadow(0px 1px 2px rgba(0, 0, 0, 0.3));\n",
              "      fill: #FFFFFF;\n",
              "    }\n",
              "  </style>\n",
              "\n",
              "      <script>\n",
              "        const buttonEl =\n",
              "          document.querySelector('#df-be20ea46-ea84-4c3e-b621-43bd56c4204b button.colab-df-convert');\n",
              "        buttonEl.style.display =\n",
              "          google.colab.kernel.accessAllowed ? 'block' : 'none';\n",
              "\n",
              "        async function convertToInteractive(key) {\n",
              "          const element = document.querySelector('#df-be20ea46-ea84-4c3e-b621-43bd56c4204b');\n",
              "          const dataTable =\n",
              "            await google.colab.kernel.invokeFunction('convertToInteractive',\n",
              "                                                     [key], {});\n",
              "          if (!dataTable) return;\n",
              "\n",
              "          const docLinkHtml = 'Like what you see? Visit the ' +\n",
              "            '<a target=\"_blank\" href=https://colab.research.google.com/notebooks/data_table.ipynb>data table notebook</a>'\n",
              "            + ' to learn more about interactive tables.';\n",
              "          element.innerHTML = '';\n",
              "          dataTable['output_type'] = 'display_data';\n",
              "          await google.colab.output.renderOutput(dataTable, element);\n",
              "          const docLink = document.createElement('div');\n",
              "          docLink.innerHTML = docLinkHtml;\n",
              "          element.appendChild(docLink);\n",
              "        }\n",
              "      </script>\n",
              "    </div>\n",
              "  </div>\n",
              "  "
            ]
          },
          "metadata": {},
          "execution_count": 8
        }
      ]
    },
    {
      "cell_type": "code",
      "source": [
        "data.columns"
      ],
      "metadata": {
        "colab": {
          "base_uri": "https://localhost:8080/"
        },
        "id": "_JXAG9Y41fz1",
        "outputId": "29cc90d5-2b09-437d-ce9f-bbd704701173"
      },
      "execution_count": null,
      "outputs": [
        {
          "output_type": "execute_result",
          "data": {
            "text/plain": [
              "Index(['datetime', 'season', 'holiday', 'workingday', 'weather', 'temp',\n",
              "       'atemp', 'humidity', 'windspeed', 'casual', 'registered', 'count'],\n",
              "      dtype='object')"
            ]
          },
          "metadata": {},
          "execution_count": 35
        }
      ]
    },
    {
      "cell_type": "markdown",
      "source": [
        "#Initial Observation\n",
        "There are no missing values\n",
        "\n",
        "The shape of dataset is (10886, 12)\n",
        "\n",
        "•\tCategorical attributes:\n",
        "  -\tdatetime: DateTime\n",
        "  -\tseason: season (1: spring, 2: summer, 3: fall, 4: winter)\n",
        "  -\tholiday: whether the day is a holiday or not (extracted from http://dchr.dc.gov/page/holiday-schedule)\n",
        "  - working day: if the day is neither weekend nor holiday is 1, otherwise is 0.\n",
        "  -\tweather:\n",
        "    1.\tClear, Few clouds, partly cloudy, partly cloudy\n",
        "    2.\tMist + Cloudy, Mist + Broken clouds, Mist + Few clouds, Mist\n",
        "    3.\tLight Snow, Light Rain + Thunderstorm + Scattered clouds, Light Rain + Scattered clouds\n",
        "  4.\tHeavy Rain + Ice Pallets + Thunderstorm + Mist, Snow + Fog\n",
        "\n",
        "•\tNumerical attributes:\n",
        "  - temp: temperature in Celsius\n",
        "  - atemp: feeling temperature in Celsius\n",
        "  - humidity: humidity\n",
        "  -\twindspeed: wind speed\n",
        "  - casual: count of casual users\n",
        "  -\tregistered: count of registered users\n",
        "  -\tcount: count of total rental bikes including both casual and registered\n"
      ],
      "metadata": {
        "id": "aJadYgWNRb_f"
      }
    },
    {
      "cell_type": "code",
      "source": [
        "columns = ['season', 'holiday', 'workingday', 'weather']\n",
        "data[columns]=data[columns].astype('object')\n",
        "data.describe(include='all')\n",
        "#conversion of categorical attributes to 'category'"
      ],
      "metadata": {
        "colab": {
          "base_uri": "https://localhost:8080/",
          "height": 394
        },
        "id": "n9GRA_EZ1eEb",
        "outputId": "cea1d04f-2af3-4783-8cdb-e921785bd6bf"
      },
      "execution_count": null,
      "outputs": [
        {
          "output_type": "execute_result",
          "data": {
            "text/plain": [
              "                   datetime   season  holiday  workingday  weather  \\\n",
              "count                 10886  10886.0  10886.0     10886.0  10886.0   \n",
              "unique                10886      4.0      2.0         2.0      4.0   \n",
              "top     2011-01-01 00:00:00      4.0      0.0         1.0      1.0   \n",
              "freq                      1   2734.0  10575.0      7412.0   7192.0   \n",
              "mean                    NaN      NaN      NaN         NaN      NaN   \n",
              "std                     NaN      NaN      NaN         NaN      NaN   \n",
              "min                     NaN      NaN      NaN         NaN      NaN   \n",
              "25%                     NaN      NaN      NaN         NaN      NaN   \n",
              "50%                     NaN      NaN      NaN         NaN      NaN   \n",
              "75%                     NaN      NaN      NaN         NaN      NaN   \n",
              "max                     NaN      NaN      NaN         NaN      NaN   \n",
              "\n",
              "               temp         atemp      humidity     windspeed        casual  \\\n",
              "count   10886.00000  10886.000000  10886.000000  10886.000000  10886.000000   \n",
              "unique          NaN           NaN           NaN           NaN           NaN   \n",
              "top             NaN           NaN           NaN           NaN           NaN   \n",
              "freq            NaN           NaN           NaN           NaN           NaN   \n",
              "mean       20.23086     23.655084     61.886460     12.799395     36.021955   \n",
              "std         7.79159      8.474601     19.245033      8.164537     49.960477   \n",
              "min         0.82000      0.760000      0.000000      0.000000      0.000000   \n",
              "25%        13.94000     16.665000     47.000000      7.001500      4.000000   \n",
              "50%        20.50000     24.240000     62.000000     12.998000     17.000000   \n",
              "75%        26.24000     31.060000     77.000000     16.997900     49.000000   \n",
              "max        41.00000     45.455000    100.000000     56.996900    367.000000   \n",
              "\n",
              "          registered         count  \n",
              "count   10886.000000  10886.000000  \n",
              "unique           NaN           NaN  \n",
              "top              NaN           NaN  \n",
              "freq             NaN           NaN  \n",
              "mean      155.552177    191.574132  \n",
              "std       151.039033    181.144454  \n",
              "min         0.000000      1.000000  \n",
              "25%        36.000000     42.000000  \n",
              "50%       118.000000    145.000000  \n",
              "75%       222.000000    284.000000  \n",
              "max       886.000000    977.000000  "
            ],
            "text/html": [
              "\n",
              "  <div id=\"df-df32b058-5b8f-45f1-9cf4-0a91ade17255\">\n",
              "    <div class=\"colab-df-container\">\n",
              "      <div>\n",
              "<style scoped>\n",
              "    .dataframe tbody tr th:only-of-type {\n",
              "        vertical-align: middle;\n",
              "    }\n",
              "\n",
              "    .dataframe tbody tr th {\n",
              "        vertical-align: top;\n",
              "    }\n",
              "\n",
              "    .dataframe thead th {\n",
              "        text-align: right;\n",
              "    }\n",
              "</style>\n",
              "<table border=\"1\" class=\"dataframe\">\n",
              "  <thead>\n",
              "    <tr style=\"text-align: right;\">\n",
              "      <th></th>\n",
              "      <th>datetime</th>\n",
              "      <th>season</th>\n",
              "      <th>holiday</th>\n",
              "      <th>workingday</th>\n",
              "      <th>weather</th>\n",
              "      <th>temp</th>\n",
              "      <th>atemp</th>\n",
              "      <th>humidity</th>\n",
              "      <th>windspeed</th>\n",
              "      <th>casual</th>\n",
              "      <th>registered</th>\n",
              "      <th>count</th>\n",
              "    </tr>\n",
              "  </thead>\n",
              "  <tbody>\n",
              "    <tr>\n",
              "      <th>count</th>\n",
              "      <td>10886</td>\n",
              "      <td>10886.0</td>\n",
              "      <td>10886.0</td>\n",
              "      <td>10886.0</td>\n",
              "      <td>10886.0</td>\n",
              "      <td>10886.00000</td>\n",
              "      <td>10886.000000</td>\n",
              "      <td>10886.000000</td>\n",
              "      <td>10886.000000</td>\n",
              "      <td>10886.000000</td>\n",
              "      <td>10886.000000</td>\n",
              "      <td>10886.000000</td>\n",
              "    </tr>\n",
              "    <tr>\n",
              "      <th>unique</th>\n",
              "      <td>10886</td>\n",
              "      <td>4.0</td>\n",
              "      <td>2.0</td>\n",
              "      <td>2.0</td>\n",
              "      <td>4.0</td>\n",
              "      <td>NaN</td>\n",
              "      <td>NaN</td>\n",
              "      <td>NaN</td>\n",
              "      <td>NaN</td>\n",
              "      <td>NaN</td>\n",
              "      <td>NaN</td>\n",
              "      <td>NaN</td>\n",
              "    </tr>\n",
              "    <tr>\n",
              "      <th>top</th>\n",
              "      <td>2011-01-01 00:00:00</td>\n",
              "      <td>4.0</td>\n",
              "      <td>0.0</td>\n",
              "      <td>1.0</td>\n",
              "      <td>1.0</td>\n",
              "      <td>NaN</td>\n",
              "      <td>NaN</td>\n",
              "      <td>NaN</td>\n",
              "      <td>NaN</td>\n",
              "      <td>NaN</td>\n",
              "      <td>NaN</td>\n",
              "      <td>NaN</td>\n",
              "    </tr>\n",
              "    <tr>\n",
              "      <th>freq</th>\n",
              "      <td>1</td>\n",
              "      <td>2734.0</td>\n",
              "      <td>10575.0</td>\n",
              "      <td>7412.0</td>\n",
              "      <td>7192.0</td>\n",
              "      <td>NaN</td>\n",
              "      <td>NaN</td>\n",
              "      <td>NaN</td>\n",
              "      <td>NaN</td>\n",
              "      <td>NaN</td>\n",
              "      <td>NaN</td>\n",
              "      <td>NaN</td>\n",
              "    </tr>\n",
              "    <tr>\n",
              "      <th>mean</th>\n",
              "      <td>NaN</td>\n",
              "      <td>NaN</td>\n",
              "      <td>NaN</td>\n",
              "      <td>NaN</td>\n",
              "      <td>NaN</td>\n",
              "      <td>20.23086</td>\n",
              "      <td>23.655084</td>\n",
              "      <td>61.886460</td>\n",
              "      <td>12.799395</td>\n",
              "      <td>36.021955</td>\n",
              "      <td>155.552177</td>\n",
              "      <td>191.574132</td>\n",
              "    </tr>\n",
              "    <tr>\n",
              "      <th>std</th>\n",
              "      <td>NaN</td>\n",
              "      <td>NaN</td>\n",
              "      <td>NaN</td>\n",
              "      <td>NaN</td>\n",
              "      <td>NaN</td>\n",
              "      <td>7.79159</td>\n",
              "      <td>8.474601</td>\n",
              "      <td>19.245033</td>\n",
              "      <td>8.164537</td>\n",
              "      <td>49.960477</td>\n",
              "      <td>151.039033</td>\n",
              "      <td>181.144454</td>\n",
              "    </tr>\n",
              "    <tr>\n",
              "      <th>min</th>\n",
              "      <td>NaN</td>\n",
              "      <td>NaN</td>\n",
              "      <td>NaN</td>\n",
              "      <td>NaN</td>\n",
              "      <td>NaN</td>\n",
              "      <td>0.82000</td>\n",
              "      <td>0.760000</td>\n",
              "      <td>0.000000</td>\n",
              "      <td>0.000000</td>\n",
              "      <td>0.000000</td>\n",
              "      <td>0.000000</td>\n",
              "      <td>1.000000</td>\n",
              "    </tr>\n",
              "    <tr>\n",
              "      <th>25%</th>\n",
              "      <td>NaN</td>\n",
              "      <td>NaN</td>\n",
              "      <td>NaN</td>\n",
              "      <td>NaN</td>\n",
              "      <td>NaN</td>\n",
              "      <td>13.94000</td>\n",
              "      <td>16.665000</td>\n",
              "      <td>47.000000</td>\n",
              "      <td>7.001500</td>\n",
              "      <td>4.000000</td>\n",
              "      <td>36.000000</td>\n",
              "      <td>42.000000</td>\n",
              "    </tr>\n",
              "    <tr>\n",
              "      <th>50%</th>\n",
              "      <td>NaN</td>\n",
              "      <td>NaN</td>\n",
              "      <td>NaN</td>\n",
              "      <td>NaN</td>\n",
              "      <td>NaN</td>\n",
              "      <td>20.50000</td>\n",
              "      <td>24.240000</td>\n",
              "      <td>62.000000</td>\n",
              "      <td>12.998000</td>\n",
              "      <td>17.000000</td>\n",
              "      <td>118.000000</td>\n",
              "      <td>145.000000</td>\n",
              "    </tr>\n",
              "    <tr>\n",
              "      <th>75%</th>\n",
              "      <td>NaN</td>\n",
              "      <td>NaN</td>\n",
              "      <td>NaN</td>\n",
              "      <td>NaN</td>\n",
              "      <td>NaN</td>\n",
              "      <td>26.24000</td>\n",
              "      <td>31.060000</td>\n",
              "      <td>77.000000</td>\n",
              "      <td>16.997900</td>\n",
              "      <td>49.000000</td>\n",
              "      <td>222.000000</td>\n",
              "      <td>284.000000</td>\n",
              "    </tr>\n",
              "    <tr>\n",
              "      <th>max</th>\n",
              "      <td>NaN</td>\n",
              "      <td>NaN</td>\n",
              "      <td>NaN</td>\n",
              "      <td>NaN</td>\n",
              "      <td>NaN</td>\n",
              "      <td>41.00000</td>\n",
              "      <td>45.455000</td>\n",
              "      <td>100.000000</td>\n",
              "      <td>56.996900</td>\n",
              "      <td>367.000000</td>\n",
              "      <td>886.000000</td>\n",
              "      <td>977.000000</td>\n",
              "    </tr>\n",
              "  </tbody>\n",
              "</table>\n",
              "</div>\n",
              "      <button class=\"colab-df-convert\" onclick=\"convertToInteractive('df-df32b058-5b8f-45f1-9cf4-0a91ade17255')\"\n",
              "              title=\"Convert this dataframe to an interactive table.\"\n",
              "              style=\"display:none;\">\n",
              "        \n",
              "  <svg xmlns=\"http://www.w3.org/2000/svg\" height=\"24px\"viewBox=\"0 0 24 24\"\n",
              "       width=\"24px\">\n",
              "    <path d=\"M0 0h24v24H0V0z\" fill=\"none\"/>\n",
              "    <path d=\"M18.56 5.44l.94 2.06.94-2.06 2.06-.94-2.06-.94-.94-2.06-.94 2.06-2.06.94zm-11 1L8.5 8.5l.94-2.06 2.06-.94-2.06-.94L8.5 2.5l-.94 2.06-2.06.94zm10 10l.94 2.06.94-2.06 2.06-.94-2.06-.94-.94-2.06-.94 2.06-2.06.94z\"/><path d=\"M17.41 7.96l-1.37-1.37c-.4-.4-.92-.59-1.43-.59-.52 0-1.04.2-1.43.59L10.3 9.45l-7.72 7.72c-.78.78-.78 2.05 0 2.83L4 21.41c.39.39.9.59 1.41.59.51 0 1.02-.2 1.41-.59l7.78-7.78 2.81-2.81c.8-.78.8-2.07 0-2.86zM5.41 20L4 18.59l7.72-7.72 1.47 1.35L5.41 20z\"/>\n",
              "  </svg>\n",
              "      </button>\n",
              "      \n",
              "  <style>\n",
              "    .colab-df-container {\n",
              "      display:flex;\n",
              "      flex-wrap:wrap;\n",
              "      gap: 12px;\n",
              "    }\n",
              "\n",
              "    .colab-df-convert {\n",
              "      background-color: #E8F0FE;\n",
              "      border: none;\n",
              "      border-radius: 50%;\n",
              "      cursor: pointer;\n",
              "      display: none;\n",
              "      fill: #1967D2;\n",
              "      height: 32px;\n",
              "      padding: 0 0 0 0;\n",
              "      width: 32px;\n",
              "    }\n",
              "\n",
              "    .colab-df-convert:hover {\n",
              "      background-color: #E2EBFA;\n",
              "      box-shadow: 0px 1px 2px rgba(60, 64, 67, 0.3), 0px 1px 3px 1px rgba(60, 64, 67, 0.15);\n",
              "      fill: #174EA6;\n",
              "    }\n",
              "\n",
              "    [theme=dark] .colab-df-convert {\n",
              "      background-color: #3B4455;\n",
              "      fill: #D2E3FC;\n",
              "    }\n",
              "\n",
              "    [theme=dark] .colab-df-convert:hover {\n",
              "      background-color: #434B5C;\n",
              "      box-shadow: 0px 1px 3px 1px rgba(0, 0, 0, 0.15);\n",
              "      filter: drop-shadow(0px 1px 2px rgba(0, 0, 0, 0.3));\n",
              "      fill: #FFFFFF;\n",
              "    }\n",
              "  </style>\n",
              "\n",
              "      <script>\n",
              "        const buttonEl =\n",
              "          document.querySelector('#df-df32b058-5b8f-45f1-9cf4-0a91ade17255 button.colab-df-convert');\n",
              "        buttonEl.style.display =\n",
              "          google.colab.kernel.accessAllowed ? 'block' : 'none';\n",
              "\n",
              "        async function convertToInteractive(key) {\n",
              "          const element = document.querySelector('#df-df32b058-5b8f-45f1-9cf4-0a91ade17255');\n",
              "          const dataTable =\n",
              "            await google.colab.kernel.invokeFunction('convertToInteractive',\n",
              "                                                     [key], {});\n",
              "          if (!dataTable) return;\n",
              "\n",
              "          const docLinkHtml = 'Like what you see? Visit the ' +\n",
              "            '<a target=\"_blank\" href=https://colab.research.google.com/notebooks/data_table.ipynb>data table notebook</a>'\n",
              "            + ' to learn more about interactive tables.';\n",
              "          element.innerHTML = '';\n",
              "          dataTable['output_type'] = 'display_data';\n",
              "          await google.colab.output.renderOutput(dataTable, element);\n",
              "          const docLink = document.createElement('div');\n",
              "          docLink.innerHTML = docLinkHtml;\n",
              "          element.appendChild(docLink);\n",
              "        }\n",
              "      </script>\n",
              "    </div>\n",
              "  </div>\n",
              "  "
            ]
          },
          "metadata": {},
          "execution_count": 90
        }
      ]
    },
    {
      "cell_type": "markdown",
      "source": [
        "# Datetime  "
      ],
      "metadata": {
        "id": "syZXMXCdNJjr"
      }
    },
    {
      "cell_type": "code",
      "source": [
        "data[\"datetime\"].value_counts()"
      ],
      "metadata": {
        "colab": {
          "base_uri": "https://localhost:8080/"
        },
        "id": "WnZkZT4lYrRI",
        "outputId": "a35be37b-4853-4fa2-fcdb-783136d32688"
      },
      "execution_count": null,
      "outputs": [
        {
          "output_type": "execute_result",
          "data": {
            "text/plain": [
              "2011-01-01 00:00:00    1\n",
              "2012-05-01 21:00:00    1\n",
              "2012-05-01 13:00:00    1\n",
              "2012-05-01 14:00:00    1\n",
              "2012-05-01 15:00:00    1\n",
              "                      ..\n",
              "2011-09-02 04:00:00    1\n",
              "2011-09-02 05:00:00    1\n",
              "2011-09-02 06:00:00    1\n",
              "2011-09-02 07:00:00    1\n",
              "2012-12-19 23:00:00    1\n",
              "Name: datetime, Length: 10886, dtype: int64"
            ]
          },
          "metadata": {},
          "execution_count": 9
        }
      ]
    },
    {
      "cell_type": "markdown",
      "source": [
        "# Season"
      ],
      "metadata": {
        "id": "bkyJdFikM7tT"
      }
    },
    {
      "cell_type": "code",
      "source": [
        "data[\"season\"].value_counts()"
      ],
      "metadata": {
        "colab": {
          "base_uri": "https://localhost:8080/"
        },
        "id": "-AlDrfk3Y7_x",
        "outputId": "2ae52c71-5d23-47e6-a058-765ecabab189"
      },
      "execution_count": null,
      "outputs": [
        {
          "output_type": "execute_result",
          "data": {
            "text/plain": [
              "4    2734\n",
              "2    2733\n",
              "3    2733\n",
              "1    2686\n",
              "Name: season, dtype: int64"
            ]
          },
          "metadata": {},
          "execution_count": 14
        }
      ]
    },
    {
      "cell_type": "markdown",
      "source": [
        "# Almost equal division among all the season  \n",
        "* 4    - 2734\n",
        "* 2    - 2733\n",
        "* 3    - 2733\n",
        "* 1    - 2686"
      ],
      "metadata": {
        "id": "b8KOmwAnZ1Nv"
      }
    },
    {
      "cell_type": "code",
      "source": [
        "sns.countplot(x=data[\"season\"])\n",
        "#Almost equal division among all the seasons"
      ],
      "metadata": {
        "colab": {
          "base_uri": "https://localhost:8080/",
          "height": 296
        },
        "id": "LBA2Z4dOZWw2",
        "outputId": "ae8abee0-fcb3-47a4-faaf-032e59fa2501"
      },
      "execution_count": null,
      "outputs": [
        {
          "output_type": "execute_result",
          "data": {
            "text/plain": [
              "<Axes: xlabel='season', ylabel='count'>"
            ]
          },
          "metadata": {},
          "execution_count": 32
        },
        {
          "output_type": "display_data",
          "data": {
            "text/plain": [
              "<Figure size 432x288 with 1 Axes>"
            ],
            "image/png": "[encoded data removed]"
          },
          "metadata": {
            "needs_background": "light"
          }
        }
      ]
    },
    {
      "cell_type": "markdown",
      "source": [
        "# Holiday     "
      ],
      "metadata": {
        "id": "k_Pedr9HNM5n"
      }
    },
    {
      "cell_type": "code",
      "source": [
        "data[\"holiday\"].value_counts()"
      ],
      "metadata": {
        "colab": {
          "base_uri": "https://localhost:8080/"
        },
        "id": "HBq8oTfaY_r2",
        "outputId": "635bc6ef-0ec3-42dd-e3b7-3bb983472f37"
      },
      "execution_count": null,
      "outputs": [
        {
          "output_type": "execute_result",
          "data": {
            "text/plain": [
              "0    10575\n",
              "1      311\n",
              "Name: holiday, dtype: int64"
            ]
          },
          "metadata": {},
          "execution_count": 15
        }
      ]
    },
    {
      "cell_type": "code",
      "source": [
        "print(data[\"holiday\"].value_counts()[0],\"(\",data[\"holiday\"].value_counts()[0]/len(data)*100,\")\")\n",
        "print(data[\"holiday\"].value_counts()[1],\"(\",data[\"holiday\"].value_counts()[1]/len(data)*100,\")\")"
      ],
      "metadata": {
        "colab": {
          "base_uri": "https://localhost:8080/"
        },
        "id": "cm4Eq-lgupty",
        "outputId": "9e444ed0-257a-4b7a-d278-a27f27b283ad"
      },
      "execution_count": null,
      "outputs": [
        {
          "output_type": "stream",
          "name": "stdout",
          "text": [
            "10575 ( 97.14311960316002 )\n",
            "311 ( 2.856880396839978 )\n"
          ]
        }
      ]
    },
    {
      "cell_type": "code",
      "source": [
        "sns.countplot(x=data['holiday'])\n",
        "#97.14 % days are not a holidays\n",
        "#2.86 % days are holidays"
      ],
      "metadata": {
        "colab": {
          "base_uri": "https://localhost:8080/",
          "height": 296
        },
        "id": "N2-kqRxXbqOc",
        "outputId": "eea1567f-eb27-46c0-c5e9-ddbfb4140606"
      },
      "execution_count": null,
      "outputs": [
        {
          "output_type": "execute_result",
          "data": {
            "text/plain": [
              "<Axes: xlabel='holiday', ylabel='count'>"
            ]
          },
          "metadata": {},
          "execution_count": 24
        },
        {
          "output_type": "display_data",
          "data": {
            "text/plain": [
              "<Figure size 432x288 with 1 Axes>"
            ],
            "image/png": "[encoded data removed]"
          },
          "metadata": {
            "needs_background": "light"
          }
        }
      ]
    },
    {
      "cell_type": "markdown",
      "source": [
        "# Workingday   "
      ],
      "metadata": {
        "id": "uk9xUacrNS4W"
      }
    },
    {
      "cell_type": "code",
      "source": [
        "data[\"workingday\"].value_counts()"
      ],
      "metadata": {
        "colab": {
          "base_uri": "https://localhost:8080/"
        },
        "id": "ZD7iTm2CZGMo",
        "outputId": "3f7aab57-e3ee-4dcf-87bd-bc3d59e6697e"
      },
      "execution_count": null,
      "outputs": [
        {
          "output_type": "execute_result",
          "data": {
            "text/plain": [
              "1    7412\n",
              "0    3474\n",
              "Name: workingday, dtype: int64"
            ]
          },
          "metadata": {},
          "execution_count": 13
        }
      ]
    },
    {
      "cell_type": "code",
      "source": [
        "print(data[\"workingday\"].value_counts()[0],\"(\",data[\"workingday\"].value_counts()[0]/len(data)*100,\")\")\n",
        "print(data[\"workingday\"].value_counts()[1],\"(\",data[\"workingday\"].value_counts()[1]/len(data)*100,\")\")"
      ],
      "metadata": {
        "colab": {
          "base_uri": "https://localhost:8080/"
        },
        "id": "THnTtgDdvv-E",
        "outputId": "d259e3f3-910a-4c46-b906-435c4bb52fb7"
      },
      "execution_count": null,
      "outputs": [
        {
          "output_type": "stream",
          "name": "stdout",
          "text": [
            "3474 ( 31.912548227080656 )\n",
            "7412 ( 68.08745177291935 )\n"
          ]
        }
      ]
    },
    {
      "cell_type": "code",
      "source": [
        "sns.countplot(x=data['workingday'])\n",
        "# 1 working ( 7412 days - 68.08 %)\n",
        "#0 Weekend nor holiday (3474 days - 31.92 %)"
      ],
      "metadata": {
        "colab": {
          "base_uri": "https://localhost:8080/",
          "height": 296
        },
        "id": "k7zdjLQhb00i",
        "outputId": "0478b08d-62ad-43d3-ff34-3e464a297363"
      },
      "execution_count": null,
      "outputs": [
        {
          "output_type": "execute_result",
          "data": {
            "text/plain": [
              "<Axes: xlabel='workingday', ylabel='count'>"
            ]
          },
          "metadata": {},
          "execution_count": 25
        },
        {
          "output_type": "display_data",
          "data": {
            "text/plain": [
              "<Figure size 432x288 with 1 Axes>"
            ],
            "image/png": "[encoded data removed]"
          },
          "metadata": {
            "needs_background": "light"
          }
        }
      ]
    },
    {
      "cell_type": "markdown",
      "source": [
        "# weather     "
      ],
      "metadata": {
        "id": "uktBlmqWNclY"
      }
    },
    {
      "cell_type": "code",
      "source": [
        "data[\"weather\"].value_counts()"
      ],
      "metadata": {
        "colab": {
          "base_uri": "https://localhost:8080/"
        },
        "id": "NpGxTkgoZODT",
        "outputId": "f623dbaf-acfe-4881-f37c-fbda221ff62a"
      },
      "execution_count": null,
      "outputs": [
        {
          "output_type": "execute_result",
          "data": {
            "text/plain": [
              "1    7192\n",
              "2    2834\n",
              "3     859\n",
              "4       1\n",
              "Name: weather, dtype: int64"
            ]
          },
          "metadata": {},
          "execution_count": 21
        }
      ]
    },
    {
      "cell_type": "code",
      "source": [
        "print(data[\"weather\"].value_counts()[1],\"(\",round(data[\"weather\"].value_counts()[1]/len(data)*100,2),\")\")\n",
        "print(data[\"weather\"].value_counts()[2],\"(\",round(data[\"weather\"].value_counts()[2]/len(data)*100,2),\")\")\n",
        "print(data[\"weather\"].value_counts()[3],\"(\",round(data[\"weather\"].value_counts()[3]/len(data)*100,2),\")\")\n",
        "print(data[\"weather\"].value_counts()[4],\"(\",round(data[\"weather\"].value_counts()[4]/len(data)*100,2),\")\")"
      ],
      "metadata": {
        "colab": {
          "base_uri": "https://localhost:8080/"
        },
        "id": "Cm-pktZQwNRJ",
        "outputId": "2ca87287-551e-485d-bfdd-5ee2aef7b948"
      },
      "execution_count": null,
      "outputs": [
        {
          "output_type": "stream",
          "name": "stdout",
          "text": [
            "7192 ( 66.07 )\n",
            "2834 ( 26.03 )\n",
            "859 ( 7.89 )\n",
            "1 ( 0.01 )\n"
          ]
        }
      ]
    },
    {
      "cell_type": "code",
      "source": [
        "sns.countplot(x=data['weather'])\n",
        "#1 7192 ( 66.07 % )\n",
        "#2 2834 ( 26.03 %)\n",
        "#3 859 ( 7.89 %)\n",
        "#4 1 ( 0.01 %)"
      ],
      "metadata": {
        "colab": {
          "base_uri": "https://localhost:8080/",
          "height": 296
        },
        "id": "1rsG89LRcLcf",
        "outputId": "fed9e1aa-d8e5-46c4-e4bf-bf2a09f54829"
      },
      "execution_count": null,
      "outputs": [
        {
          "output_type": "execute_result",
          "data": {
            "text/plain": [
              "<Axes: xlabel='weather', ylabel='count'>"
            ]
          },
          "metadata": {},
          "execution_count": 26
        },
        {
          "output_type": "display_data",
          "data": {
            "text/plain": [
              "<Figure size 432x288 with 1 Axes>"
            ],
            "image/png": "[encoded data removed]"
          },
          "metadata": {
            "needs_background": "light"
          }
        }
      ]
    },
    {
      "cell_type": "markdown",
      "source": [
        "# temp          "
      ],
      "metadata": {
        "id": "Pi1P0OxNNg7H"
      }
    },
    {
      "cell_type": "code",
      "source": [
        "data[\"temp\"].value_counts()"
      ],
      "metadata": {
        "colab": {
          "base_uri": "https://localhost:8080/"
        },
        "id": "j0o8H4SeZUKD",
        "outputId": "c3b37af8-a4c1-4ec3-c6a2-e9141a0be7c6"
      },
      "execution_count": null,
      "outputs": [
        {
          "output_type": "execute_result",
          "data": {
            "text/plain": [
              "14.76    467\n",
              "26.24    453\n",
              "28.70    427\n",
              "13.94    413\n",
              "18.86    406\n",
              "22.14    403\n",
              "25.42    403\n",
              "16.40    400\n",
              "22.96    395\n",
              "27.06    394\n",
              "24.60    390\n",
              "12.30    385\n",
              "21.32    362\n",
              "17.22    356\n",
              "13.12    356\n",
              "29.52    353\n",
              "10.66    332\n",
              "18.04    328\n",
              "20.50    327\n",
              "30.34    299\n",
              "9.84     294\n",
              "15.58    255\n",
              "9.02     248\n",
              "31.16    242\n",
              "8.20     229\n",
              "27.88    224\n",
              "23.78    203\n",
              "32.80    202\n",
              "11.48    181\n",
              "19.68    170\n",
              "6.56     146\n",
              "33.62    130\n",
              "5.74     107\n",
              "7.38     106\n",
              "31.98     98\n",
              "34.44     80\n",
              "35.26     76\n",
              "4.92      60\n",
              "36.90     46\n",
              "4.10      44\n",
              "37.72     34\n",
              "36.08     23\n",
              "3.28      11\n",
              "0.82       7\n",
              "38.54      7\n",
              "39.36      6\n",
              "2.46       5\n",
              "1.64       2\n",
              "41.00      1\n",
              "Name: temp, dtype: int64"
            ]
          },
          "metadata": {},
          "execution_count": 34
        }
      ]
    },
    {
      "cell_type": "code",
      "source": [
        "data[\"temp\"].astype('object').describe()"
      ],
      "metadata": {
        "colab": {
          "base_uri": "https://localhost:8080/"
        },
        "id": "80_u0W6MzrU7",
        "outputId": "a86d41fc-0fcd-47b1-aabb-ba6e44965a99"
      },
      "execution_count": null,
      "outputs": [
        {
          "output_type": "execute_result",
          "data": {
            "text/plain": [
              "count     10886.00\n",
              "unique       49.00\n",
              "top          14.76\n",
              "freq        467.00\n",
              "Name: temp, dtype: float64"
            ]
          },
          "metadata": {},
          "execution_count": 33
        }
      ]
    },
    {
      "cell_type": "code",
      "source": [
        "plt.figure(figsize=(20,8))\n",
        "plt.xticks(rotation=90,fontsize=12)\n",
        "sns.countplot(x=data['temp'])\n",
        "#temp: temperature in Celsius\n",
        "#0.82 to 41 with mean = 20.23086\n",
        "#49 uniquevalues with top = 14.76 which is repeated 467 times"
      ],
      "metadata": {
        "colab": {
          "base_uri": "https://localhost:8080/",
          "height": 538
        },
        "id": "GDKB7Naocb39",
        "outputId": "7e76de5f-4b69-4f93-cd8a-4e4b53e3b8a1"
      },
      "execution_count": null,
      "outputs": [
        {
          "output_type": "execute_result",
          "data": {
            "text/plain": [
              "<Axes: xlabel='temp', ylabel='count'>"
            ]
          },
          "metadata": {},
          "execution_count": 21
        },
        {
          "output_type": "display_data",
          "data": {
            "text/plain": [
              "<Figure size 1440x576 with 1 Axes>"
            ],
            "image/png": "[encoded data removed]"
          },
          "metadata": {
            "needs_background": "light"
          }
        }
      ]
    },
    {
      "cell_type": "code",
      "source": [
        "plt.figure(figsize=(4,4))\n",
        "plt.xticks(rotation=90,fontsize=12)\n",
        "sns.histplot(x=data['temp'],kde = True)\n",
        "#follow almost normal distribution"
      ],
      "metadata": {
        "colab": {
          "base_uri": "https://localhost:8080/",
          "height": 301
        },
        "id": "1yTfyieFivln",
        "outputId": "ffa0820e-3c4a-4dd9-900d-ed5e3113a951"
      },
      "execution_count": null,
      "outputs": [
        {
          "output_type": "execute_result",
          "data": {
            "text/plain": [
              "<Axes: xlabel='temp', ylabel='Count'>"
            ]
          },
          "metadata": {},
          "execution_count": 81
        },
        {
          "output_type": "display_data",
          "data": {
            "text/plain": [
              "<Figure size 288x288 with 1 Axes>"
            ],
            "image/png": "[encoded data removed]"
          },
          "metadata": {
            "needs_background": "light"
          }
        }
      ]
    },
    {
      "cell_type": "code",
      "source": [
        "sns.boxplot(x=data['temp'])\n",
        "# no outlier"
      ],
      "metadata": {
        "colab": {
          "base_uri": "https://localhost:8080/",
          "height": 296
        },
        "id": "E9nJ3PmtXAlb",
        "outputId": "49fd38e2-8150-41ce-f692-2d466c68c23d"
      },
      "execution_count": null,
      "outputs": [
        {
          "output_type": "execute_result",
          "data": {
            "text/plain": [
              "<Axes: xlabel='temp'>"
            ]
          },
          "metadata": {},
          "execution_count": 17
        },
        {
          "output_type": "display_data",
          "data": {
            "text/plain": [
              "<Figure size 432x288 with 1 Axes>"
            ],
            "image/png": "[encoded data removed]"
          },
          "metadata": {
            "needs_background": "light"
          }
        }
      ]
    },
    {
      "cell_type": "markdown",
      "source": [
        "# atemp        "
      ],
      "metadata": {
        "id": "HI4xg2aQNlOp"
      }
    },
    {
      "cell_type": "code",
      "source": [
        "data[\"atemp\"].value_counts()"
      ],
      "metadata": {
        "colab": {
          "base_uri": "https://localhost:8080/"
        },
        "id": "kX3ugmd3ZajF",
        "outputId": "d6642f1f-bba5-44dd-a336-45ea7c6cf0af"
      },
      "execution_count": null,
      "outputs": [
        {
          "output_type": "execute_result",
          "data": {
            "text/plain": [
              "31.060    671\n",
              "25.760    423\n",
              "22.725    406\n",
              "20.455    400\n",
              "26.515    395\n",
              "16.665    381\n",
              "25.000    365\n",
              "33.335    364\n",
              "21.210    356\n",
              "30.305    350\n",
              "15.150    338\n",
              "21.970    328\n",
              "24.240    327\n",
              "17.425    314\n",
              "31.820    299\n",
              "34.850    283\n",
              "27.275    282\n",
              "32.575    272\n",
              "11.365    271\n",
              "14.395    269\n",
              "29.545    257\n",
              "19.695    255\n",
              "15.910    254\n",
              "12.880    247\n",
              "13.635    237\n",
              "34.090    224\n",
              "12.120    195\n",
              "28.790    175\n",
              "23.485    170\n",
              "10.605    166\n",
              "35.605    159\n",
              "9.850     127\n",
              "18.180    123\n",
              "36.365    123\n",
              "37.120    118\n",
              "9.090     107\n",
              "37.880     97\n",
              "28.030     80\n",
              "7.575      75\n",
              "38.635     74\n",
              "6.060      73\n",
              "39.395     67\n",
              "6.820      63\n",
              "8.335      63\n",
              "18.940     45\n",
              "40.150     45\n",
              "40.910     39\n",
              "5.305      25\n",
              "42.425     24\n",
              "41.665     23\n",
              "3.790      16\n",
              "4.545      11\n",
              "3.030       7\n",
              "43.940      7\n",
              "2.275       7\n",
              "43.180      7\n",
              "44.695      3\n",
              "0.760       2\n",
              "1.515       1\n",
              "45.455      1\n",
              "Name: atemp, dtype: int64"
            ]
          },
          "metadata": {},
          "execution_count": 16
        }
      ]
    },
    {
      "cell_type": "code",
      "source": [
        "data[\"atemp\"].astype('object').describe()"
      ],
      "metadata": {
        "colab": {
          "base_uri": "https://localhost:8080/"
        },
        "id": "Zi7NrZYO00Wt",
        "outputId": "bc40d58e-4734-4d41-e3f7-152646ac3ac8"
      },
      "execution_count": null,
      "outputs": [
        {
          "output_type": "execute_result",
          "data": {
            "text/plain": [
              "count     10886.00\n",
              "unique       60.00\n",
              "top          31.06\n",
              "freq        671.00\n",
              "Name: atemp, dtype: float64"
            ]
          },
          "metadata": {},
          "execution_count": 35
        }
      ]
    },
    {
      "cell_type": "code",
      "source": [
        "plt.figure(figsize=(20,8))\n",
        "plt.xticks(rotation=90,fontsize=12)\n",
        "sns.countplot(x=data['atemp'])\n",
        "#atemp: feeling temperature in Celsius\n",
        "#0.760000 to 45.455000 with mean - 23.655084\n",
        "#60 unique values with top = 31.06 which is repeated 671 times"
      ],
      "metadata": {
        "colab": {
          "base_uri": "https://localhost:8080/",
          "height": 547
        },
        "id": "H_ggQRwsoI7_",
        "outputId": "b4fb9590-9c9c-48b1-b8f7-702d9b5d3575"
      },
      "execution_count": null,
      "outputs": [
        {
          "output_type": "execute_result",
          "data": {
            "text/plain": [
              "<Axes: xlabel='atemp', ylabel='count'>"
            ]
          },
          "metadata": {},
          "execution_count": 30
        },
        {
          "output_type": "display_data",
          "data": {
            "text/plain": [
              "<Figure size 1440x576 with 1 Axes>"
            ],
            "image/png": "[encoded data removed]"
          },
          "metadata": {
            "needs_background": "light"
          }
        }
      ]
    },
    {
      "cell_type": "code",
      "source": [
        "sns.histplot(x=data['atemp'],kde = True)\n",
        "#follow almost normal distribution"
      ],
      "metadata": {
        "colab": {
          "base_uri": "https://localhost:8080/",
          "height": 296
        },
        "id": "jXdengf5jMq7",
        "outputId": "517bf878-3bc5-4628-975b-2772257ba058"
      },
      "execution_count": null,
      "outputs": [
        {
          "output_type": "execute_result",
          "data": {
            "text/plain": [
              "<Axes: xlabel='atemp', ylabel='Count'>"
            ]
          },
          "metadata": {},
          "execution_count": 23
        },
        {
          "output_type": "display_data",
          "data": {
            "text/plain": [
              "<Figure size 432x288 with 1 Axes>"
            ],
            "image/png": "[encoded data removed]"
          },
          "metadata": {
            "needs_background": "light"
          }
        }
      ]
    },
    {
      "cell_type": "code",
      "source": [
        "from statsmodels.graphics.gofplots import qqplot\n",
        "qqplot(data['atemp'], line = \"s\")\n",
        "plt.show()"
      ],
      "metadata": {
        "colab": {
          "base_uri": "https://localhost:8080/",
          "height": 279
        },
        "id": "TDpQPLtyl9KD",
        "outputId": "26dd1476-c3f5-4a18-dd35-c8002b471cd3"
      },
      "execution_count": null,
      "outputs": [
        {
          "output_type": "display_data",
          "data": {
            "text/plain": [
              "<Figure size 432x288 with 1 Axes>"
            ],
            "image/png": "[encoded data removed]"
          },
          "metadata": {
            "needs_background": "light"
          }
        }
      ]
    },
    {
      "cell_type": "code",
      "source": [
        "from scipy.stats import shapiro, kstest\n",
        "\n",
        "from scipy.stats import levene"
      ],
      "metadata": {
        "id": "jKteb1tTnH8E"
      },
      "execution_count": null,
      "outputs": []
    },
    {
      "cell_type": "code",
      "source": [
        "atemp_subset = data['atemp'].sample(100)"
      ],
      "metadata": {
        "id": "w3jjFVnbnF-X"
      },
      "execution_count": null,
      "outputs": []
    },
    {
      "cell_type": "code",
      "source": [
        "# H0 : data['atemp'] is Gaussian\n",
        "# HA : data['atemp'] is not Gaussian\n",
        "test_stat, p_value = shapiro(atemp_subset)\n",
        "print(p_value)\n",
        "if p_value < 0.05:\n",
        "    print(\"Reject H0\")\n",
        "    print(\"data['atemp'] is not Gaussian\")\n",
        "else:\n",
        "    print(\"Fail to reject H0\")\n",
        "    print(\"data['atemp'] is Gaussian\")"
      ],
      "metadata": {
        "colab": {
          "base_uri": "https://localhost:8080/"
        },
        "id": "yMGCJ-BymTsL",
        "outputId": "888f3c26-9f22-4fc7-d6fd-8d04578de525"
      },
      "execution_count": null,
      "outputs": [
        {
          "output_type": "stream",
          "name": "stdout",
          "text": [
            "0.16035334765911102\n",
            "Fail to reject H0\n",
            "data['atemp'] is Gaussian\n"
          ]
        }
      ]
    },
    {
      "cell_type": "code",
      "source": [
        "sns.boxplot(x=data['atemp'])\n",
        "# no outlier"
      ],
      "metadata": {
        "colab": {
          "base_uri": "https://localhost:8080/",
          "height": 296
        },
        "id": "Uprbi4riXJid",
        "outputId": "c7f7342e-6b0d-44be-daa5-acdb711ac8a0"
      },
      "execution_count": null,
      "outputs": [
        {
          "output_type": "execute_result",
          "data": {
            "text/plain": [
              "<Axes: xlabel='atemp'>"
            ]
          },
          "metadata": {},
          "execution_count": 18
        },
        {
          "output_type": "display_data",
          "data": {
            "text/plain": [
              "<Figure size 432x288 with 1 Axes>"
            ],
            "image/png": "[encoded data removed]"
          },
          "metadata": {
            "needs_background": "light"
          }
        }
      ]
    },
    {
      "cell_type": "markdown",
      "source": [
        "# humidity      "
      ],
      "metadata": {
        "id": "8kIIdNcjNoQ2"
      }
    },
    {
      "cell_type": "code",
      "source": [
        "data[\"humidity\"].value_counts()"
      ],
      "metadata": {
        "colab": {
          "base_uri": "https://localhost:8080/"
        },
        "id": "nTLI2Vp1ZeVA",
        "outputId": "c27acae6-f371-4caf-99d7-bce165b2dc63"
      },
      "execution_count": null,
      "outputs": [
        {
          "output_type": "execute_result",
          "data": {
            "text/plain": [
              "88    368\n",
              "94    324\n",
              "83    316\n",
              "87    289\n",
              "70    259\n",
              "     ... \n",
              "8       1\n",
              "10      1\n",
              "97      1\n",
              "96      1\n",
              "91      1\n",
              "Name: humidity, Length: 89, dtype: int64"
            ]
          },
          "metadata": {},
          "execution_count": 17
        }
      ]
    },
    {
      "cell_type": "code",
      "source": [
        "data[\"humidity\"].astype('object').describe()"
      ],
      "metadata": {
        "colab": {
          "base_uri": "https://localhost:8080/"
        },
        "id": "jje3kKbh1SXA",
        "outputId": "47b2bf24-0811-4d60-af39-8cc3c53a6ae3"
      },
      "execution_count": null,
      "outputs": [
        {
          "output_type": "execute_result",
          "data": {
            "text/plain": [
              "count     10886\n",
              "unique       89\n",
              "top          88\n",
              "freq        368\n",
              "Name: humidity, dtype: int64"
            ]
          },
          "metadata": {},
          "execution_count": 37
        }
      ]
    },
    {
      "cell_type": "code",
      "source": [
        "plt.figure(figsize=(20,8))\n",
        "plt.xticks(rotation=90,fontsize=12)\n",
        "sns.countplot(x=data['humidity'])\n",
        "#humidity\n",
        "#0 to 100 with mean = 61.886460\n",
        "#89 unique values with top = 88 which is repeated 368 times"
      ],
      "metadata": {
        "colab": {
          "base_uri": "https://localhost:8080/",
          "height": 526
        },
        "id": "kbOSf0pqobTc",
        "outputId": "207be65a-2cae-4367-e3ff-b08909fedc98"
      },
      "execution_count": null,
      "outputs": [
        {
          "output_type": "execute_result",
          "data": {
            "text/plain": [
              "<Axes: xlabel='humidity', ylabel='count'>"
            ]
          },
          "metadata": {},
          "execution_count": 31
        },
        {
          "output_type": "display_data",
          "data": {
            "text/plain": [
              "<Figure size 1440x576 with 1 Axes>"
            ],
            "image/png": "[encoded data removed]"
          },
          "metadata": {
            "needs_background": "light"
          }
        }
      ]
    },
    {
      "cell_type": "code",
      "source": [
        "sns.boxplot(x=data['humidity'])\n",
        "#Outliers at 0 values"
      ],
      "metadata": {
        "colab": {
          "base_uri": "https://localhost:8080/",
          "height": 296
        },
        "id": "ciT2MbXGXRVK",
        "outputId": "a3f7fc50-9d79-48ca-f353-300eceac2396"
      },
      "execution_count": null,
      "outputs": [
        {
          "output_type": "execute_result",
          "data": {
            "text/plain": [
              "<Axes: xlabel='humidity'>"
            ]
          },
          "metadata": {},
          "execution_count": 19
        },
        {
          "output_type": "display_data",
          "data": {
            "text/plain": [
              "<Figure size 432x288 with 1 Axes>"
            ],
            "image/png": "[encoded data removed]"
          },
          "metadata": {
            "needs_background": "light"
          }
        }
      ]
    },
    {
      "cell_type": "markdown",
      "source": [
        "# windspeed     "
      ],
      "metadata": {
        "id": "nkKu9KnoNrKt"
      }
    },
    {
      "cell_type": "code",
      "source": [
        "data[\"windspeed\"].value_counts()"
      ],
      "metadata": {
        "colab": {
          "base_uri": "https://localhost:8080/"
        },
        "id": "H0mBq647ZkqT",
        "outputId": "9b3e45c4-9c77-4c4a-9ff5-95d325b0a006"
      },
      "execution_count": null,
      "outputs": [
        {
          "output_type": "execute_result",
          "data": {
            "text/plain": [
              "0.0000     1313\n",
              "8.9981     1120\n",
              "11.0014    1057\n",
              "12.9980    1042\n",
              "7.0015     1034\n",
              "15.0013     961\n",
              "6.0032      872\n",
              "16.9979     824\n",
              "19.0012     676\n",
              "19.9995     492\n",
              "22.0028     372\n",
              "23.9994     274\n",
              "26.0027     235\n",
              "27.9993     187\n",
              "30.0026     111\n",
              "31.0009      89\n",
              "32.9975      80\n",
              "35.0008      58\n",
              "39.0007      27\n",
              "36.9974      22\n",
              "43.0006      12\n",
              "40.9973      11\n",
              "43.9989       8\n",
              "46.0022       3\n",
              "56.9969       2\n",
              "47.9988       2\n",
              "51.9987       1\n",
              "50.0021       1\n",
              "Name: windspeed, dtype: int64"
            ]
          },
          "metadata": {},
          "execution_count": 18
        }
      ]
    },
    {
      "cell_type": "code",
      "source": [
        "data[\"windspeed\"].astype('object').describe()"
      ],
      "metadata": {
        "colab": {
          "base_uri": "https://localhost:8080/"
        },
        "id": "uSPc233W2nFU",
        "outputId": "36717108-17ae-40d2-89b6-53bd4c090ed0"
      },
      "execution_count": null,
      "outputs": [
        {
          "output_type": "execute_result",
          "data": {
            "text/plain": [
              "count     10886.0\n",
              "unique       28.0\n",
              "top           0.0\n",
              "freq       1313.0\n",
              "Name: windspeed, dtype: float64"
            ]
          },
          "metadata": {},
          "execution_count": 38
        }
      ]
    },
    {
      "cell_type": "code",
      "source": [
        "plt.figure(figsize=(20,8))\n",
        "plt.xticks(rotation=90,fontsize=12)\n",
        "sns.countplot(x=data['windspeed'])\n",
        "#wind speed\n",
        "#0 to 56.9969 with mean = 12.799395\n",
        "#28 unique values with top = 0 which is repeated 1313 times"
      ],
      "metadata": {
        "colab": {
          "base_uri": "https://localhost:8080/",
          "height": 553
        },
        "id": "_4JKrIomWzI6",
        "outputId": "2159ee0f-752f-46d6-e8b5-4933b1b7026c"
      },
      "execution_count": null,
      "outputs": [
        {
          "output_type": "execute_result",
          "data": {
            "text/plain": [
              "<Axes: xlabel='windspeed', ylabel='count'>"
            ]
          },
          "metadata": {},
          "execution_count": 16
        },
        {
          "output_type": "display_data",
          "data": {
            "text/plain": [
              "<Figure size 1440x576 with 1 Axes>"
            ],
            "image/png": "[encoded data removed]"
          },
          "metadata": {
            "needs_background": "light"
          }
        }
      ]
    },
    {
      "cell_type": "code",
      "source": [
        "sns.boxplot(x=data['windspeed'])\n",
        "# Few Outlier after 30"
      ],
      "metadata": {
        "colab": {
          "base_uri": "https://localhost:8080/",
          "height": 296
        },
        "id": "chbiCZhqXfmA",
        "outputId": "bdc0a565-b428-4a8b-c274-556ea43e3e23"
      },
      "execution_count": null,
      "outputs": [
        {
          "output_type": "execute_result",
          "data": {
            "text/plain": [
              "<Axes: xlabel='windspeed'>"
            ]
          },
          "metadata": {},
          "execution_count": 20
        },
        {
          "output_type": "display_data",
          "data": {
            "text/plain": [
              "<Figure size 432x288 with 1 Axes>"
            ],
            "image/png": "[encoded data removed]"
          },
          "metadata": {
            "needs_background": "light"
          }
        }
      ]
    },
    {
      "cell_type": "markdown",
      "source": [
        "# casual       "
      ],
      "metadata": {
        "id": "HMlxN1KWNuzB"
      }
    },
    {
      "cell_type": "code",
      "source": [
        "data[\"casual\"].value_counts()"
      ],
      "metadata": {
        "colab": {
          "base_uri": "https://localhost:8080/"
        },
        "id": "NHoaBEkmZq7q",
        "outputId": "7a74aae7-0af7-465d-df0c-1839000947b2"
      },
      "execution_count": null,
      "outputs": [
        {
          "output_type": "execute_result",
          "data": {
            "text/plain": [
              "0      986\n",
              "1      667\n",
              "2      487\n",
              "3      438\n",
              "4      354\n",
              "      ... \n",
              "332      1\n",
              "361      1\n",
              "356      1\n",
              "331      1\n",
              "304      1\n",
              "Name: casual, Length: 309, dtype: int64"
            ]
          },
          "metadata": {},
          "execution_count": 19
        }
      ]
    },
    {
      "cell_type": "code",
      "source": [
        "data[\"casual\"].astype('object').describe()"
      ],
      "metadata": {
        "colab": {
          "base_uri": "https://localhost:8080/"
        },
        "id": "m_mDrQbr3QnO",
        "outputId": "1e637b52-364b-48f3-e794-87773628115c"
      },
      "execution_count": null,
      "outputs": [
        {
          "output_type": "execute_result",
          "data": {
            "text/plain": [
              "count     10886\n",
              "unique      309\n",
              "top           0\n",
              "freq        986\n",
              "Name: casual, dtype: int64"
            ]
          },
          "metadata": {},
          "execution_count": 39
        }
      ]
    },
    {
      "cell_type": "code",
      "source": [
        "sns.boxplot(x=data['casual'])\n",
        "#Outlier after 110"
      ],
      "metadata": {
        "colab": {
          "base_uri": "https://localhost:8080/",
          "height": 296
        },
        "id": "Atwmt7x-XyOX",
        "outputId": "303a3e00-a976-4a07-80f2-a2a463488916"
      },
      "execution_count": null,
      "outputs": [
        {
          "output_type": "execute_result",
          "data": {
            "text/plain": [
              "<Axes: xlabel='casual'>"
            ]
          },
          "metadata": {},
          "execution_count": 22
        },
        {
          "output_type": "display_data",
          "data": {
            "text/plain": [
              "<Figure size 432x288 with 1 Axes>"
            ],
            "image/png": "[encoded data removed]"
          },
          "metadata": {
            "needs_background": "light"
          }
        }
      ]
    },
    {
      "cell_type": "code",
      "source": [
        "plt.figure(figsize=(20,8))\n",
        "plt.xticks(rotation=90,fontsize=12)\n",
        "sns.histplot(x=data[\"casual\"], kde = True)\n",
        "#casual: count of casual users\n",
        "#0 to 367 with mean = 36.021955\n",
        "#309 unique values with top = 0 which is repeated 986 times"
      ],
      "metadata": {
        "colab": {
          "base_uri": "https://localhost:8080/",
          "height": 526
        },
        "id": "6l2JjjbeY1L9",
        "outputId": "1fb5f1dc-4f12-408f-b7d2-9ca01b312598"
      },
      "execution_count": null,
      "outputs": [
        {
          "output_type": "execute_result",
          "data": {
            "text/plain": [
              "<Axes: xlabel='casual', ylabel='Count'>"
            ]
          },
          "metadata": {},
          "execution_count": 24
        },
        {
          "output_type": "display_data",
          "data": {
            "text/plain": [
              "<Figure size 1440x576 with 1 Axes>"
            ],
            "image/png": "[encoded data removed]"
          },
          "metadata": {
            "needs_background": "light"
          }
        }
      ]
    },
    {
      "cell_type": "markdown",
      "source": [
        "# registered    "
      ],
      "metadata": {
        "id": "Jag8OrtDNxpp"
      }
    },
    {
      "cell_type": "code",
      "source": [
        "data[\"registered\"].value_counts()"
      ],
      "metadata": {
        "colab": {
          "base_uri": "https://localhost:8080/"
        },
        "id": "XQY9pFnqZvmP",
        "outputId": "cfaf74ce-831c-4d4a-e7fc-36bb66104b5e"
      },
      "execution_count": null,
      "outputs": [
        {
          "output_type": "execute_result",
          "data": {
            "text/plain": [
              "3      195\n",
              "4      190\n",
              "5      177\n",
              "6      155\n",
              "2      150\n",
              "      ... \n",
              "570      1\n",
              "422      1\n",
              "678      1\n",
              "565      1\n",
              "636      1\n",
              "Name: registered, Length: 731, dtype: int64"
            ]
          },
          "metadata": {},
          "execution_count": 20
        }
      ]
    },
    {
      "cell_type": "code",
      "source": [
        "data[\"registered\"].astype('object').describe()"
      ],
      "metadata": {
        "colab": {
          "base_uri": "https://localhost:8080/"
        },
        "id": "WuU6D2Hr3wC4",
        "outputId": "61565478-d32d-4e71-a540-6ffc52b5c5b9"
      },
      "execution_count": null,
      "outputs": [
        {
          "output_type": "execute_result",
          "data": {
            "text/plain": [
              "count     10886\n",
              "unique      731\n",
              "top           3\n",
              "freq        195\n",
              "Name: registered, dtype: int64"
            ]
          },
          "metadata": {},
          "execution_count": 40
        }
      ]
    },
    {
      "cell_type": "code",
      "source": [
        "sns.boxplot(x=data[\"registered\"])\n",
        "#Outlier after 500"
      ],
      "metadata": {
        "colab": {
          "base_uri": "https://localhost:8080/",
          "height": 296
        },
        "id": "xAvhk7tyYLKT",
        "outputId": "89fb6806-a1dd-4776-8a7e-d29a25823c33"
      },
      "execution_count": null,
      "outputs": [
        {
          "output_type": "execute_result",
          "data": {
            "text/plain": [
              "<Axes: xlabel='registered'>"
            ]
          },
          "metadata": {},
          "execution_count": 23
        },
        {
          "output_type": "display_data",
          "data": {
            "text/plain": [
              "<Figure size 432x288 with 1 Axes>"
            ],
            "image/png": "[encoded data removed]"
          },
          "metadata": {
            "needs_background": "light"
          }
        }
      ]
    },
    {
      "cell_type": "code",
      "source": [
        "plt.figure(figsize=(20,8))\n",
        "plt.xticks(rotation=90,fontsize=12)\n",
        "sns.histplot(x=data[\"registered\"],kde =True)\n",
        "#registered: count of registered users\n",
        "#0 to 886 with mean = 155.552177\n",
        "#731 unique values with top = 3 which is repeated 195 times"
      ],
      "metadata": {
        "colab": {
          "base_uri": "https://localhost:8080/",
          "height": 527
        },
        "id": "FQHXi-XPYuS7",
        "outputId": "3979aff7-1eca-48c9-cb19-4a13c48e0a48"
      },
      "execution_count": null,
      "outputs": [
        {
          "output_type": "execute_result",
          "data": {
            "text/plain": [
              "<Axes: xlabel='registered', ylabel='Count'>"
            ]
          },
          "metadata": {},
          "execution_count": 25
        },
        {
          "output_type": "display_data",
          "data": {
            "text/plain": [
              "<Figure size 1440x576 with 1 Axes>"
            ],
            "image/png": "[encoded data removed]"
          },
          "metadata": {
            "needs_background": "light"
          }
        }
      ]
    },
    {
      "cell_type": "markdown",
      "source": [
        "# count        "
      ],
      "metadata": {
        "id": "CcZ7ylbXN1EX"
      }
    },
    {
      "cell_type": "code",
      "source": [
        "data[\"count\"].value_counts()"
      ],
      "metadata": {
        "colab": {
          "base_uri": "https://localhost:8080/"
        },
        "id": "yGglHs0XZzdl",
        "outputId": "a38e8c44-4627-4fad-c136-eda9dde4bfd3"
      },
      "execution_count": null,
      "outputs": [
        {
          "output_type": "execute_result",
          "data": {
            "text/plain": [
              "5      169\n",
              "4      149\n",
              "3      144\n",
              "6      135\n",
              "2      132\n",
              "      ... \n",
              "801      1\n",
              "629      1\n",
              "825      1\n",
              "589      1\n",
              "636      1\n",
              "Name: count, Length: 822, dtype: int64"
            ]
          },
          "metadata": {},
          "execution_count": 21
        }
      ]
    },
    {
      "cell_type": "code",
      "source": [
        "data[\"count\"].astype('object').describe()"
      ],
      "metadata": {
        "colab": {
          "base_uri": "https://localhost:8080/"
        },
        "id": "h4NcSZU34Lcy",
        "outputId": "e2b2be15-4137-4d68-e588-527b29ba6d2b"
      },
      "execution_count": null,
      "outputs": [
        {
          "output_type": "execute_result",
          "data": {
            "text/plain": [
              "count     10886\n",
              "unique      822\n",
              "top           5\n",
              "freq        169\n",
              "Name: count, dtype: int64"
            ]
          },
          "metadata": {},
          "execution_count": 41
        }
      ]
    },
    {
      "cell_type": "code",
      "source": [
        "sns.boxplot(x=data[\"count\"])\n",
        "#Outlier after 620"
      ],
      "metadata": {
        "colab": {
          "base_uri": "https://localhost:8080/",
          "height": 296
        },
        "id": "6q457QEKYVBV",
        "outputId": "39439dcd-3c04-4632-853c-e19d351cbb08"
      },
      "execution_count": null,
      "outputs": [
        {
          "output_type": "execute_result",
          "data": {
            "text/plain": [
              "<Axes: xlabel='count'>"
            ]
          },
          "metadata": {},
          "execution_count": 24
        },
        {
          "output_type": "display_data",
          "data": {
            "text/plain": [
              "<Figure size 432x288 with 1 Axes>"
            ],
            "image/png": "[encoded data removed]"
          },
          "metadata": {
            "needs_background": "light"
          }
        }
      ]
    },
    {
      "cell_type": "code",
      "source": [
        "plt.figure(figsize=(5,4))\n",
        "plt.xticks(rotation=90,fontsize=12)\n",
        "sns.histplot(x=data['count'])\n",
        "#count: count of total rental bikes including both casual and registered\n",
        "#1 to 977 with mean = 191.574132\n",
        "#822 unique values with top = 5 which is repeated 169 times"
      ],
      "metadata": {
        "id": "miU1JU7mlK1l",
        "colab": {
          "base_uri": "https://localhost:8080/",
          "height": 316
        },
        "outputId": "c7cde735-2603-42ff-e72c-d711366b930b"
      },
      "execution_count": null,
      "outputs": [
        {
          "output_type": "execute_result",
          "data": {
            "text/plain": [
              "<Axes: xlabel='count', ylabel='Count'>"
            ]
          },
          "metadata": {},
          "execution_count": 10
        },
        {
          "output_type": "display_data",
          "data": {
            "text/plain": [
              "<Figure size 360x288 with 1 Axes>"
            ],
            "image/png": "[encoded data removed]"
          },
          "metadata": {
            "needs_background": "light"
          }
        }
      ]
    },
    {
      "cell_type": "markdown",
      "source": [
        "# Statistical summary\n",
        "No missing values\n",
        "## Categorical attributes:\n",
        "1. datetime: datetime (10886 unique values)\n",
        "2. season: season    \n",
        "  * 1 spring (2686 days)\n",
        "  * 2 summer (2733 days)\n",
        "  * 3 fall (2733 days)\n",
        "  * 4 winter (2734 days)\n",
        "  \n",
        "  * Almost equal division among all the seasons\n",
        "3. holiday: whether day is a holiday or not (extracted from http://dchr.dc.gov/page/holiday-schedule)     \n",
        "  * 0 - not a holiday (10575 days - 97.14 %)\n",
        "  * 1 - holiday (311 - 2.86 %)\n",
        "4. Working day:   \n",
        "  * 1 working ( 7412 days - 68.08 %)\n",
        "  * 0 Weekend nor holiday (3474 days - 31.92 %)\n",
        "5. Weather\n",
        "  1. Clear, Few clouds, partly cloudy, partly cloudy ( 7192 - 66.07 % )\n",
        "  2.\tMist + Cloudy, Mist + Broken clouds, Mist + Few clouds, Mist ( 2834 - 26.03 % )\n",
        "  3.\tLight Snow, Light Rain + Thunderstorm + Scattered clouds, Light Rain + Scattered clouds (859 - 7.89 % )\n",
        "  4.\tHeavy Rain + Ice Pallets + Thunderstorm + Mist, Snow + Fog ( 1  - 0.01 % )\n",
        "\n",
        "## Numerical attributes:\n",
        "1. temp: temperature in Celsius\n",
        "  * 0.82\tto 41 with mean = 20.23086\n",
        "  * 49 uniquevalues with top = 14.76 which is repeated 467 times\n",
        "2. atemp: feeling temperature in Celsius\n",
        "  * 0.760000 to 45.455000 with mean - 23.655084\n",
        "  * 60 unique values with top = 31.06 which is repeated 671 times\n",
        "3. humidity: humidity\n",
        "  * 0 to 100 with mean = 61.886460\n",
        "  * 89 unique values with top = 88 which is repeated 368 times\n",
        "4. windspeed: wind speed\n",
        "  * 0 to 56.9969 with mean = 12.799395\n",
        "  * 28 unique values with top = 0 which is repeated 1313 times\n",
        "5. casual: count of casual users\n",
        "  * 0 to 367 with mean = 36.021955\n",
        "  * 309 unique values with top = 0 which is repeated 986 times\n",
        "6. registered: count of registered users\n",
        "  * 0 to 886 with mean = 155.552177\n",
        "  * 731 unique values with top = 3 which is repeated 195 times\n",
        "7. count: count of total rental bikes including both casual and registered\n",
        "  * 1 to 977 with mean = 191.574132\n",
        "  * 822 unique values with top = 5 which is repeated 169 times"
      ],
      "metadata": {
        "id": "Afs9Igo8Vh-D"
      }
    },
    {
      "cell_type": "code",
      "source": [
        "sns.boxplot(data=data, x='workingday',y='count', hue = \"season\")"
      ],
      "metadata": {
        "colab": {
          "base_uri": "https://localhost:8080/",
          "height": 296
        },
        "id": "4vTkbj5K8F75",
        "outputId": "ef3cafda-e35d-41db-f301-f839220fe774"
      },
      "execution_count": null,
      "outputs": [
        {
          "output_type": "execute_result",
          "data": {
            "text/plain": [
              "<Axes: xlabel='workingday', ylabel='count'>"
            ]
          },
          "metadata": {},
          "execution_count": 50
        },
        {
          "output_type": "display_data",
          "data": {
            "text/plain": [
              "<Figure size 432x288 with 1 Axes>"
            ],
            "image/png": "[encoded data removed]"
          },
          "metadata": {
            "needs_background": "light"
          }
        }
      ]
    },
    {
      "cell_type": "code",
      "source": [
        "sns.boxplot(data=data, x='workingday',y='count', hue = \"weather\")"
      ],
      "metadata": {
        "colab": {
          "base_uri": "https://localhost:8080/",
          "height": 296
        },
        "id": "3sbxD0658Q3R",
        "outputId": "d22fe1b7-36da-497d-bcdf-f95543624389"
      },
      "execution_count": null,
      "outputs": [
        {
          "output_type": "execute_result",
          "data": {
            "text/plain": [
              "<Axes: xlabel='workingday', ylabel='count'>"
            ]
          },
          "metadata": {},
          "execution_count": 51
        },
        {
          "output_type": "display_data",
          "data": {
            "text/plain": [
              "<Figure size 432x288 with 1 Axes>"
            ],
            "image/png": "[encoded data removed]"
          },
          "metadata": {
            "needs_background": "light"
          }
        }
      ]
    },
    {
      "cell_type": "code",
      "source": [
        "sns.boxplot(data=data, x='workingday',y='count', hue = \"holiday\")"
      ],
      "metadata": {
        "colab": {
          "base_uri": "https://localhost:8080/",
          "height": 296
        },
        "id": "EpoMsKTA8VAI",
        "outputId": "b69287f8-a87a-4fbf-840e-c8b65d86ae41"
      },
      "execution_count": null,
      "outputs": [
        {
          "output_type": "execute_result",
          "data": {
            "text/plain": [
              "<Axes: xlabel='workingday', ylabel='count'>"
            ]
          },
          "metadata": {},
          "execution_count": 52
        },
        {
          "output_type": "display_data",
          "data": {
            "text/plain": [
              "<Figure size 432x288 with 1 Axes>"
            ],
            "image/png": "[encoded data removed]"
          },
          "metadata": {
            "needs_background": "light"
          }
        }
      ]
    },
    {
      "cell_type": "code",
      "source": [
        "sns.boxplot(data=data, x='holiday',y='count')\n",
        "# Almost same mean. But we have a lot of outlier in case of '0'"
      ],
      "metadata": {
        "colab": {
          "base_uri": "https://localhost:8080/",
          "height": 296
        },
        "id": "oP024hmfkPqN",
        "outputId": "6fc5a363-16bf-42e8-f5d1-58931a87a6b2"
      },
      "execution_count": null,
      "outputs": [
        {
          "output_type": "execute_result",
          "data": {
            "text/plain": [
              "<Axes: xlabel='holiday', ylabel='count'>"
            ]
          },
          "metadata": {},
          "execution_count": 14
        },
        {
          "output_type": "display_data",
          "data": {
            "text/plain": [
              "<Figure size 432x288 with 1 Axes>"
            ],
            "image/png": "[encoded data removed]"
          },
          "metadata": {
            "needs_background": "light"
          }
        }
      ]
    },
    {
      "cell_type": "code",
      "source": [
        "sns.boxplot(data=data, x='holiday',y='count',hue = \"season\")"
      ],
      "metadata": {
        "colab": {
          "base_uri": "https://localhost:8080/",
          "height": 296
        },
        "id": "GUzrr8bN8nsd",
        "outputId": "ab80bced-6629-468d-f325-9958aa88e7d2"
      },
      "execution_count": null,
      "outputs": [
        {
          "output_type": "execute_result",
          "data": {
            "text/plain": [
              "<Axes: xlabel='holiday', ylabel='count'>"
            ]
          },
          "metadata": {},
          "execution_count": 53
        },
        {
          "output_type": "display_data",
          "data": {
            "text/plain": [
              "<Figure size 432x288 with 1 Axes>"
            ],
            "image/png": "[encoded data removed]"
          },
          "metadata": {
            "needs_background": "light"
          }
        }
      ]
    },
    {
      "cell_type": "markdown",
      "source": [
        "# Hypothesis Testing"
      ],
      "metadata": {
        "id": "gzh-bqza85bf"
      }
    },
    {
      "cell_type": "markdown",
      "source": [
        "## 2- Sample T-Test to check if Working Day has an effect on the number of electric cycles rented"
      ],
      "metadata": {
        "id": "0nrbycLP89I3"
      }
    },
    {
      "cell_type": "code",
      "source": [
        "workingday_0 = data[data[\"workingday\"]==0]['count']\n",
        "workingday_1 = data[data[\"workingday\"]==1]['count']"
      ],
      "metadata": {
        "id": "QEjJ78OO9Dzm"
      },
      "execution_count": null,
      "outputs": []
    },
    {
      "cell_type": "code",
      "source": [
        "# Ho : Mean of number of electric cycles rented for working day = Mean of number of electric cycles rented for non working day\n",
        "# HA : Mean of number of electric cycles rented for working day != Mean of number of electric cycles rented for non working day\n",
        "from scipy.stats import ttest_ind\n",
        "ttest_ind(workingday_0,workingday_1)\n",
        "# As p-value > alpha/2 = 0.025, Fail to reject Ho\n",
        "#Mean of number of electric cycles rented for working day ~ Mean of number of electric cycles rented for non working day"
      ],
      "metadata": {
        "colab": {
          "base_uri": "https://localhost:8080/"
        },
        "id": "vZDvWIJW9cPR",
        "outputId": "d6f074b9-72f1-44fc-be60-7d21126c28fd"
      },
      "execution_count": null,
      "outputs": [
        {
          "output_type": "execute_result",
          "data": {
            "text/plain": [
              "Ttest_indResult(statistic=-1.2096277376026694, pvalue=0.22644804226361348)"
            ]
          },
          "metadata": {},
          "execution_count": 43
        }
      ]
    },
    {
      "cell_type": "code",
      "source": [
        "print(\"Mean of number of electric cycles rented for working day = \",workingday_0.mean())\n",
        "print(\"Mean of number of electric cycles rented for non working day = \",workingday_1.mean())\n",
        "print(\"Both are almost equal\")"
      ],
      "metadata": {
        "colab": {
          "base_uri": "https://localhost:8080/"
        },
        "id": "VUAJ4SvyFAvJ",
        "outputId": "97331194-4263-4def-a21b-ab662d1a5b53"
      },
      "execution_count": null,
      "outputs": [
        {
          "output_type": "stream",
          "name": "stdout",
          "text": [
            "Mean of number of electric cycles rented for working day =  188.50662061024755\n",
            "Mean of number of electric cycles rented for non working day =  193.01187263896384\n",
            "Both are almost equal\n"
          ]
        }
      ]
    },
    {
      "cell_type": "code",
      "source": [
        "sns.boxplot(data=data, x='workingday',y='count')"
      ],
      "metadata": {
        "colab": {
          "base_uri": "https://localhost:8080/",
          "height": 296
        },
        "id": "lCXslYG_kKhS",
        "outputId": "c83387e2-e8d5-4f0f-e33a-a85cff7641d2"
      },
      "execution_count": null,
      "outputs": [
        {
          "output_type": "execute_result",
          "data": {
            "text/plain": [
              "<Axes: xlabel='workingday', ylabel='count'>"
            ]
          },
          "metadata": {},
          "execution_count": 13
        },
        {
          "output_type": "display_data",
          "data": {
            "text/plain": [
              "<Figure size 432x288 with 1 Axes>"
            ],
            "image/png": "[encoded data removed]"
          },
          "metadata": {
            "needs_background": "light"
          }
        }
      ]
    },
    {
      "cell_type": "markdown",
      "source": [
        "## ANNOVA to check if No. of cycles rented is similar or different in different  weather condition"
      ],
      "metadata": {
        "id": "ud5UgD5H0orh"
      }
    },
    {
      "cell_type": "code",
      "source": [
        "weather_1 = data[data[\"weather\"]==1]['count']\n",
        "weather_2 = data[data[\"weather\"]==2]['count']\n",
        "weather_3 = data[data[\"weather\"]==3]['count']\n",
        "weather_4 = data[data[\"weather\"]==4]['count']"
      ],
      "metadata": {
        "id": "N--ZQiKR0iP9"
      },
      "execution_count": null,
      "outputs": []
    },
    {
      "cell_type": "code",
      "source": [
        "#Ho : All four weather condition have same mean for number of electric cycles rented\n",
        "#Ha: At least one is different than the other\n",
        "from scipy.stats import f_oneway\n",
        "f_oneway(weather_1,weather_2,weather_3,weather_4)\n",
        "#As p-value << 0, we can reject Ho."
      ],
      "metadata": {
        "colab": {
          "base_uri": "https://localhost:8080/"
        },
        "id": "G8YiwmaWkWGx",
        "outputId": "c75f988d-4d6d-4fc3-98fc-b100f8eed950"
      },
      "execution_count": null,
      "outputs": [
        {
          "output_type": "execute_result",
          "data": {
            "text/plain": [
              "F_onewayResult(statistic=65.53024112793271, pvalue=5.482069475935669e-42)"
            ]
          },
          "metadata": {},
          "execution_count": 62
        }
      ]
    },
    {
      "cell_type": "code",
      "source": [
        "sns.boxplot(data=data, x='weather',y='count')"
      ],
      "metadata": {
        "colab": {
          "base_uri": "https://localhost:8080/",
          "height": 296
        },
        "id": "NAR-8VZ9TUNI",
        "outputId": "87f6be60-9816-42ab-9166-3b1ef53fc838"
      },
      "execution_count": null,
      "outputs": [
        {
          "output_type": "execute_result",
          "data": {
            "text/plain": [
              "<Axes: xlabel='weather', ylabel='count'>"
            ]
          },
          "metadata": {},
          "execution_count": 83
        },
        {
          "output_type": "display_data",
          "data": {
            "text/plain": [
              "<Figure size 432x288 with 1 Axes>"
            ],
            "image/png": "[encoded data removed]"
          },
          "metadata": {
            "needs_background": "light"
          }
        }
      ]
    },
    {
      "cell_type": "code",
      "source": [
        "print(\"The mean of number of electric cycles rented for weather condition 1 is\", weather_1.mean())\n",
        "print(\"The mean of number of electric cycles rented for weather condition 2 is\", weather_2.mean())\n",
        "print(\"The mean of number of electric cycles rented for weather condition 3 is\", weather_3.mean())\n",
        "print(\"The mean of number of electric cycles rented for weather condition 4 is\", weather_4.mean())\n",
        "# Mean of number of electric cycles rented for all weather condition difference in value"
      ],
      "metadata": {
        "colab": {
          "base_uri": "https://localhost:8080/"
        },
        "id": "kZmN_PCIFsEt",
        "outputId": "fd3334f3-353a-468d-d9ae-d12d3373ae49"
      },
      "execution_count": null,
      "outputs": [
        {
          "output_type": "stream",
          "name": "stdout",
          "text": [
            "The mean of number of electric cycles rented for weather condition 1 is 205.23679087875416\n",
            "The mean of number of electric cycles rented for weather condition 2 is 178.95553987297106\n",
            "The mean of number of electric cycles rented for weather condition 3 is 118.84633294528521\n",
            "The mean of number of electric cycles rented for weather condition 4 is 164.0\n"
          ]
        }
      ]
    },
    {
      "cell_type": "code",
      "source": [
        "f_oneway(weather_2,weather_4)\n",
        "# As p-value > 0.05, we fail to reject Ho"
      ],
      "metadata": {
        "colab": {
          "base_uri": "https://localhost:8080/"
        },
        "id": "OP66YxF9GzQw",
        "outputId": "1c6c8b17-5096-4993-dec9-fd22ba009667"
      },
      "execution_count": null,
      "outputs": [
        {
          "output_type": "execute_result",
          "data": {
            "text/plain": [
              "F_onewayResult(statistic=0.00788751238773749, pvalue=0.9292378620021875)"
            ]
          },
          "metadata": {},
          "execution_count": 65
        }
      ]
    },
    {
      "cell_type": "markdown",
      "source": [
        "#ANNOVA to check if No. of cycles rented is similar or different in different season"
      ],
      "metadata": {
        "id": "76SbQjSK5KqB"
      }
    },
    {
      "cell_type": "code",
      "source": [
        "season_1 = data[data[\"season\"]==1]['count']\n",
        "season_2 = data[data[\"season\"]==2]['count']\n",
        "season_3 = data[data[\"season\"]==3]['count']\n",
        "season_4 = data[data[\"season\"]==4]['count']"
      ],
      "metadata": {
        "id": "F05LmCf78INa"
      },
      "execution_count": null,
      "outputs": []
    },
    {
      "cell_type": "code",
      "source": [
        "#Ho : All four season have same mean for number of electric cycles rented\n",
        "#Ha: At least one is different than the other\n",
        "f_oneway(season_1,season_2,season_3,season_4)\n",
        "#As p-value << 0, We reject Ho"
      ],
      "metadata": {
        "colab": {
          "base_uri": "https://localhost:8080/"
        },
        "id": "pV8EBbPl8Yh4",
        "outputId": "5a2a95f2-97d6-40ca-854d-e48921e3f263"
      },
      "execution_count": null,
      "outputs": [
        {
          "output_type": "execute_result",
          "data": {
            "text/plain": [
              "F_onewayResult(statistic=236.94671081032106, pvalue=6.164843386499654e-149)"
            ]
          },
          "metadata": {},
          "execution_count": 68
        }
      ]
    },
    {
      "cell_type": "code",
      "source": [
        "sns.boxplot(data=data, x='season',y='count')"
      ],
      "metadata": {
        "id": "SzzSGSCIbN-u",
        "colab": {
          "base_uri": "https://localhost:8080/",
          "height": 296
        },
        "outputId": "bc44b641-c20d-4853-ca7f-048f1caca0d1"
      },
      "execution_count": null,
      "outputs": [
        {
          "output_type": "execute_result",
          "data": {
            "text/plain": [
              "<Axes: xlabel='season', ylabel='count'>"
            ]
          },
          "metadata": {},
          "execution_count": 11
        },
        {
          "output_type": "display_data",
          "data": {
            "text/plain": [
              "<Figure size 432x288 with 1 Axes>"
            ],
            "image/png": "[encoded data removed]"
          },
          "metadata": {
            "needs_background": "light"
          }
        }
      ]
    },
    {
      "cell_type": "code",
      "source": [
        "print(\"The mean of number of electric cycles rented for season condition 1 is\", season_1.mean())\n",
        "print(\"The mean of number of electric cycles rented for season condition 2 is\", season_2.mean())\n",
        "print(\"The mean of number of electric cycles rented for season condition 3 is\", season_3.mean())\n",
        "print(\"The mean of number of electric cycles rented for season condition 4 is\", season_4.mean())\n",
        "## Mean of number of electric cycles rented for all season condition difference in value"
      ],
      "metadata": {
        "colab": {
          "base_uri": "https://localhost:8080/"
        },
        "id": "Vb_iUeQFHYfm",
        "outputId": "fd98317e-eef1-445a-b2c8-bbda2d6aa20e"
      },
      "execution_count": null,
      "outputs": [
        {
          "output_type": "stream",
          "name": "stdout",
          "text": [
            "The mean of number of electric cycles rented for season condition 1 is 116.34326135517499\n",
            "The mean of number of electric cycles rented for season condition 2 is 215.25137211855105\n",
            "The mean of number of electric cycles rented for season condition 3 is 234.417124039517\n",
            "The mean of number of electric cycles rented for season condition 4 is 198.98829553767374\n"
          ]
        }
      ]
    },
    {
      "cell_type": "markdown",
      "source": [
        "## Chi-square test to check if Weather is dependent on the season"
      ],
      "metadata": {
        "id": "VRIRpu_lk5Oo"
      }
    },
    {
      "cell_type": "code",
      "source": [
        "sns.boxplot(data=data, x='season',y='count',hue = \"holiday\")"
      ],
      "metadata": {
        "colab": {
          "base_uri": "https://localhost:8080/",
          "height": 296
        },
        "id": "j_jtttCnTCXS",
        "outputId": "5498c820-4837-4aaf-e021-2718161ecbb7"
      },
      "execution_count": null,
      "outputs": [
        {
          "output_type": "execute_result",
          "data": {
            "text/plain": [
              "<Axes: xlabel='season', ylabel='count'>"
            ]
          },
          "metadata": {},
          "execution_count": 82
        },
        {
          "output_type": "display_data",
          "data": {
            "text/plain": [
              "<Figure size 432x288 with 1 Axes>"
            ],
            "image/png": "[encoded data removed]"
          },
          "metadata": {
            "needs_background": "light"
          }
        }
      ]
    },
    {
      "cell_type": "code",
      "source": [
        "from scipy.stats import chi2_contingency"
      ],
      "metadata": {
        "id": "Xt3cRNBf8qCb"
      },
      "execution_count": null,
      "outputs": []
    },
    {
      "cell_type": "code",
      "source": [
        "observed = pd.crosstab(index=data[\"weather\"],columns=data[\"season\"],margins=True)\n",
        "observed"
      ],
      "metadata": {
        "colab": {
          "base_uri": "https://localhost:8080/",
          "height": 237
        },
        "id": "7uA73vmDI1hh",
        "outputId": "6259f647-eafb-4ffb-c3df-abcdfb9ecba0"
      },
      "execution_count": null,
      "outputs": [
        {
          "output_type": "execute_result",
          "data": {
            "text/plain": [
              "season      1     2     3     4    All\n",
              "weather                               \n",
              "1        1759  1801  1930  1702   7192\n",
              "2         715   708   604   807   2834\n",
              "3         211   224   199   225    859\n",
              "4           1     0     0     0      1\n",
              "All      2686  2733  2733  2734  10886"
            ],
            "text/html": [
              "\n",
              "  <div id=\"df-34a0beaf-2a03-4c56-905a-cdbf22ae6c71\">\n",
              "    <div class=\"colab-df-container\">\n",
              "      <div>\n",
              "<style scoped>\n",
              "    .dataframe tbody tr th:only-of-type {\n",
              "        vertical-align: middle;\n",
              "    }\n",
              "\n",
              "    .dataframe tbody tr th {\n",
              "        vertical-align: top;\n",
              "    }\n",
              "\n",
              "    .dataframe thead th {\n",
              "        text-align: right;\n",
              "    }\n",
              "</style>\n",
              "<table border=\"1\" class=\"dataframe\">\n",
              "  <thead>\n",
              "    <tr style=\"text-align: right;\">\n",
              "      <th>season</th>\n",
              "      <th>1</th>\n",
              "      <th>2</th>\n",
              "      <th>3</th>\n",
              "      <th>4</th>\n",
              "      <th>All</th>\n",
              "    </tr>\n",
              "    <tr>\n",
              "      <th>weather</th>\n",
              "      <th></th>\n",
              "      <th></th>\n",
              "      <th></th>\n",
              "      <th></th>\n",
              "      <th></th>\n",
              "    </tr>\n",
              "  </thead>\n",
              "  <tbody>\n",
              "    <tr>\n",
              "      <th>1</th>\n",
              "      <td>1759</td>\n",
              "      <td>1801</td>\n",
              "      <td>1930</td>\n",
              "      <td>1702</td>\n",
              "      <td>7192</td>\n",
              "    </tr>\n",
              "    <tr>\n",
              "      <th>2</th>\n",
              "      <td>715</td>\n",
              "      <td>708</td>\n",
              "      <td>604</td>\n",
              "      <td>807</td>\n",
              "      <td>2834</td>\n",
              "    </tr>\n",
              "    <tr>\n",
              "      <th>3</th>\n",
              "      <td>211</td>\n",
              "      <td>224</td>\n",
              "      <td>199</td>\n",
              "      <td>225</td>\n",
              "      <td>859</td>\n",
              "    </tr>\n",
              "    <tr>\n",
              "      <th>4</th>\n",
              "      <td>1</td>\n",
              "      <td>0</td>\n",
              "      <td>0</td>\n",
              "      <td>0</td>\n",
              "      <td>1</td>\n",
              "    </tr>\n",
              "    <tr>\n",
              "      <th>All</th>\n",
              "      <td>2686</td>\n",
              "      <td>2733</td>\n",
              "      <td>2733</td>\n",
              "      <td>2734</td>\n",
              "      <td>10886</td>\n",
              "    </tr>\n",
              "  </tbody>\n",
              "</table>\n",
              "</div>\n",
              "      <button class=\"colab-df-convert\" onclick=\"convertToInteractive('df-34a0beaf-2a03-4c56-905a-cdbf22ae6c71')\"\n",
              "              title=\"Convert this dataframe to an interactive table.\"\n",
              "              style=\"display:none;\">\n",
              "        \n",
              "  <svg xmlns=\"http://www.w3.org/2000/svg\" height=\"24px\"viewBox=\"0 0 24 24\"\n",
              "       width=\"24px\">\n",
              "    <path d=\"M0 0h24v24H0V0z\" fill=\"none\"/>\n",
              "    <path d=\"M18.56 5.44l.94 2.06.94-2.06 2.06-.94-2.06-.94-.94-2.06-.94 2.06-2.06.94zm-11 1L8.5 8.5l.94-2.06 2.06-.94-2.06-.94L8.5 2.5l-.94 2.06-2.06.94zm10 10l.94 2.06.94-2.06 2.06-.94-2.06-.94-.94-2.06-.94 2.06-2.06.94z\"/><path d=\"M17.41 7.96l-1.37-1.37c-.4-.4-.92-.59-1.43-.59-.52 0-1.04.2-1.43.59L10.3 9.45l-7.72 7.72c-.78.78-.78 2.05 0 2.83L4 21.41c.39.39.9.59 1.41.59.51 0 1.02-.2 1.41-.59l7.78-7.78 2.81-2.81c.8-.78.8-2.07 0-2.86zM5.41 20L4 18.59l7.72-7.72 1.47 1.35L5.41 20z\"/>\n",
              "  </svg>\n",
              "      </button>\n",
              "      \n",
              "  <style>\n",
              "    .colab-df-container {\n",
              "      display:flex;\n",
              "      flex-wrap:wrap;\n",
              "      gap: 12px;\n",
              "    }\n",
              "\n",
              "    .colab-df-convert {\n",
              "      background-color: #E8F0FE;\n",
              "      border: none;\n",
              "      border-radius: 50%;\n",
              "      cursor: pointer;\n",
              "      display: none;\n",
              "      fill: #1967D2;\n",
              "      height: 32px;\n",
              "      padding: 0 0 0 0;\n",
              "      width: 32px;\n",
              "    }\n",
              "\n",
              "    .colab-df-convert:hover {\n",
              "      background-color: #E2EBFA;\n",
              "      box-shadow: 0px 1px 2px rgba(60, 64, 67, 0.3), 0px 1px 3px 1px rgba(60, 64, 67, 0.15);\n",
              "      fill: #174EA6;\n",
              "    }\n",
              "\n",
              "    [theme=dark] .colab-df-convert {\n",
              "      background-color: #3B4455;\n",
              "      fill: #D2E3FC;\n",
              "    }\n",
              "\n",
              "    [theme=dark] .colab-df-convert:hover {\n",
              "      background-color: #434B5C;\n",
              "      box-shadow: 0px 1px 3px 1px rgba(0, 0, 0, 0.15);\n",
              "      filter: drop-shadow(0px 1px 2px rgba(0, 0, 0, 0.3));\n",
              "      fill: #FFFFFF;\n",
              "    }\n",
              "  </style>\n",
              "\n",
              "      <script>\n",
              "        const buttonEl =\n",
              "          document.querySelector('#df-34a0beaf-2a03-4c56-905a-cdbf22ae6c71 button.colab-df-convert');\n",
              "        buttonEl.style.display =\n",
              "          google.colab.kernel.accessAllowed ? 'block' : 'none';\n",
              "\n",
              "        async function convertToInteractive(key) {\n",
              "          const element = document.querySelector('#df-34a0beaf-2a03-4c56-905a-cdbf22ae6c71');\n",
              "          const dataTable =\n",
              "            await google.colab.kernel.invokeFunction('convertToInteractive',\n",
              "                                                     [key], {});\n",
              "          if (!dataTable) return;\n",
              "\n",
              "          const docLinkHtml = 'Like what you see? Visit the ' +\n",
              "            '<a target=\"_blank\" href=https://colab.research.google.com/notebooks/data_table.ipynb>data table notebook</a>'\n",
              "            + ' to learn more about interactive tables.';\n",
              "          element.innerHTML = '';\n",
              "          dataTable['output_type'] = 'display_data';\n",
              "          await google.colab.output.renderOutput(dataTable, element);\n",
              "          const docLink = document.createElement('div');\n",
              "          docLink.innerHTML = docLinkHtml;\n",
              "          element.appendChild(docLink);\n",
              "        }\n",
              "      </script>\n",
              "    </div>\n",
              "  </div>\n",
              "  "
            ]
          },
          "metadata": {},
          "execution_count": 84
        }
      ]
    },
    {
      "cell_type": "code",
      "source": [
        "#Ho : Weather is independent of the season\n",
        "#Ha : Weather is dependent on the season\n",
        "chi2_contingency(observed)\n",
        "#As p-value << 0, we can reject Ho\n",
        "#Weather is dependent on the season"
      ],
      "metadata": {
        "colab": {
          "base_uri": "https://localhost:8080/"
        },
        "id": "ETgiuPZCJSKh",
        "outputId": "bb79513b-c79a-446b-8e7d-d86f11136e66"
      },
      "execution_count": null,
      "outputs": [
        {
          "output_type": "execute_result",
          "data": {
            "text/plain": [
              "Chi2ContingencyResult(statistic=49.15865559689363, pvalue=3.1185273325126814e-05, dof=16, expected_freq=array([[1.77454639e+03, 1.80559765e+03, 1.80559765e+03, 1.80625831e+03,\n",
              "        7.19200000e+03],\n",
              "       [6.99258130e+02, 7.11493845e+02, 7.11493845e+02, 7.11754180e+02,\n",
              "        2.83400000e+03],\n",
              "       [2.11948742e+02, 2.15657450e+02, 2.15657450e+02, 2.15736359e+02,\n",
              "        8.59000000e+02],\n",
              "       [2.46738931e-01, 2.51056403e-01, 2.51056403e-01, 2.51148264e-01,\n",
              "        1.00000000e+00],\n",
              "       [2.68600000e+03, 2.73300000e+03, 2.73300000e+03, 2.73400000e+03,\n",
              "        1.08860000e+04]]))"
            ]
          },
          "metadata": {},
          "execution_count": 77
        }
      ]
    },
    {
      "cell_type": "code",
      "source": [
        "plt.figure(figsize=(15,15))\n",
        "sns.heatmap(data.corr(), annot=True, cmap=\"Blues\", linewidth=.5)"
      ],
      "metadata": {
        "colab": {
          "base_uri": "https://localhost:8080/",
          "height": 884
        },
        "id": "unETUO0GJ6YW",
        "outputId": "26404849-566d-4134-ba86-cecd2cbf1cb0"
      },
      "execution_count": null,
      "outputs": [
        {
          "output_type": "execute_result",
          "data": {
            "text/plain": [
              "<Axes: >"
            ]
          },
          "metadata": {},
          "execution_count": 107
        },
        {
          "output_type": "display_data",
          "data": {
            "text/plain": [
              "<Figure size 1080x1080 with 2 Axes>"
            ],
            "image/png": "[encoded data removed]"
          },
          "metadata": {
            "needs_background": "light"
          }
        }
      ]
    },
    {
      "cell_type": "markdown",
      "source": [
        "* There is postive corelation between temp and atemp.\n",
        "* There is negative corelation between tempearture, atemperature and humidity , windspeed\n",
        "* The total count of users ( also casual as registered users) depends on the temperature\n",
        "* There no coorelation between humidity and wind speed, total count of users ( also casual as registered users)"
      ],
      "metadata": {
        "id": "uaaLOetmo-Nj"
      }
    },
    {
      "cell_type": "code",
      "source": [
        "sns.scatterplot(data=data, x=\"casual\", y=\"registered\", hue=\"workingday\")"
      ],
      "metadata": {
        "colab": {
          "base_uri": "https://localhost:8080/",
          "height": 296
        },
        "id": "0dlc0Xxfo5AN",
        "outputId": "a265e1a0-fdc0-4675-8167-e3951d4a0885"
      },
      "execution_count": null,
      "outputs": [
        {
          "output_type": "execute_result",
          "data": {
            "text/plain": [
              "<Axes: xlabel='casual', ylabel='registered'>"
            ]
          },
          "metadata": {},
          "execution_count": 102
        },
        {
          "output_type": "display_data",
          "data": {
            "text/plain": [
              "<Figure size 432x288 with 1 Axes>"
            ],
            "image/png": "[encoded data removed]"
          },
          "metadata": {
            "needs_background": "light"
          }
        }
      ]
    },
    {
      "cell_type": "code",
      "source": [
        "sns.scatterplot(data=data, x=\"casual\", y=\"registered\", hue=\"weather\")"
      ],
      "metadata": {
        "colab": {
          "base_uri": "https://localhost:8080/",
          "height": 296
        },
        "id": "hvT8VBbNx-3h",
        "outputId": "6c32272f-5b59-4fde-b6a6-fb6cd55f8559"
      },
      "execution_count": null,
      "outputs": [
        {
          "output_type": "execute_result",
          "data": {
            "text/plain": [
              "<Axes: xlabel='casual', ylabel='registered'>"
            ]
          },
          "metadata": {},
          "execution_count": 104
        },
        {
          "output_type": "display_data",
          "data": {
            "text/plain": [
              "<Figure size 432x288 with 1 Axes>"
            ],
            "image/png": "[encoded data removed]"
          },
          "metadata": {
            "needs_background": "light"
          }
        }
      ]
    },
    {
      "cell_type": "markdown",
      "source": [
        "#Insights\n",
        "\n",
        "#Statistical summary\n",
        "No missing values\n",
        "##Categorical attributes:\n",
        "1.\tdatetime: DateTime (10886 unique values)\n",
        "2.\tseason: season\n",
        "-1 spring (2686 days)\n",
        "- 2 summer (2733 days)\n",
        "-\t3 fall (2733 days)\n",
        "-\t4 winter (2734 days)\n",
        "-\tAlmost equal division among all the seasons\n",
        "3.\tholiday: whether the day is a holiday or not (extracted from http://dchr.dc.gov/page/holiday-schedule)\n",
        "- 0 - not a holiday (10575 days - 97.14 %)\n",
        "-\t1 - holiday (311 - 2.86 %)\n",
        "4.\tWorking day:\n",
        "-\t1 working ( 7412 days - 68.08 %)\n",
        "-\t0 Weekend nor holiday (3474 days - 31.92 %)\n",
        "5.\tWeather\n",
        "-\tClear, Few clouds, partly cloudy, partly cloudy ( 7192 - 66.07 % )\n",
        "-\tMist + Cloudy, Mist + Broken clouds, Mist + Few clouds, Mist ( 2834 - 26.03 % )\n",
        "-\tLight Snow, Light Rain + Thunderstorm + Scattered clouds, Light Rain + Scattered clouds (859 - 7.89 % )\n",
        "-\tHeavy Rain + Ice Pallets + Thunderstorm + Mist, Snow + Fog ( 1 - 0.01 % )\n",
        "Numerical attributes:\n",
        "6.\ttemp: temperature in Celsius\n",
        "-\t0.82 to 41 with mean = 20.23086\n",
        "-\t49 unique values with top = 14.76 which is repeated 467 times\n",
        "7.\tatemp: feeling temperature in Celsius\n",
        "-\t0.760000 to 45.455000 with mean - 23.655084\n",
        "-\t60 unique values with top = 31.06 which is repeated 671 times\n",
        "8.\thumidity: humidity\n",
        "-\t0 to 100 with mean = 61.886460\n",
        "-\t89 unique values with top = 88 which is repeated 368 times\n",
        "9.\twindspeed: wind speed\n",
        "-\t0 to 56.9969 with mean = 12.799395\n",
        "-\t28 unique values with top = 0 which is repeated 1313 times\n",
        "10.\tcasual: count of casual users\n",
        "-\t0 to 367 with mean = 36.021955\n",
        "-\t309 unique values with top = 0 which is repeated 986 times\n",
        "8.\tregistered: count of registered users\n",
        "-\t0 to 886 with mean = 155.552177\n",
        "-\t731 unique values with top = 3 which is repeated 195 times\n",
        "9.\tcount: count of total rental bikes including both casual and registered\n",
        "-\t1 to 977 with mean = 191.574132\n",
        "-\t822 unique values with top = 5 which is repeated 169 times\n",
        "10.\tFrom 2- Sample T-Test to check if Working Day has an effect on the number of electric cycles rented, we can infer that the mean of the number of electric cycles rented for working day = Mean of number of electric cycles rented for the non-working day\n",
        "11.\tBy performing ANOVA on the number of cycles rented in different weather conditions, we infer that the mean of the number of electric cycles rented for all weather conditions varies.\n",
        "12.\tBy performing ANOVA on the number of cycles rented in different seasons, we infer that the mean of the number of electric cycles rented for all season condition difference in the values\n",
        "13.\tChi-square test concluded that weather conditions are dependent on the season\n",
        "14.\tFrom the correlation analysis of various numerical data, we can conclude that\n",
        "-\tThere is a positive correlation between temperature and “atemp”.\n",
        "-\tThere is a negative correlation between temperature, atemperature and humidity, windspeed\n",
        "-\tThe total count of users (also casual as well as registered users) depends on the temperature\n",
        "-\tThere is no correlation between humidity and wind speed, the total count of users (also casual as well as registered users)\n",
        "-\tThe temperature and feeling temperature are influencing the numbers of users\n",
        "15.\tDuring the working day, registered users are more and while holidays or non-working day, casual users are more\n",
        "\n",
        "\n",
        "\n",
        "#Recommendations:\n",
        "1.\tDuring the non-working day, they can give more offers to increase users\n",
        "2.\tWeather conditions influence the users. The reduction in the users is due the bad weather condition. During the heavy rain, there is almost zero percentages.\n",
        "3.\tThe temperature and feeling temperature are influencing the numbers of users\n",
        "\n",
        "\n",
        "\n",
        "\n",
        "\n",
        "\n"
      ],
      "metadata": {
        "id": "AKFfkwnqTwLH"
      }
    },
    {
      "cell_type": "code",
      "source": [],
      "metadata": {
        "id": "ctmG3rHz0a97"
      },
      "execution_count": null,
      "outputs": []
    }
  ]
}